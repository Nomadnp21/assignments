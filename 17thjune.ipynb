{
 "cells": [
  {
   "cell_type": "markdown",
   "id": "250e1dfe-185e-499f-b7e2-2697533c061e",
   "metadata": {},
   "source": [
    "1. What is the role of try and exception block?"
   ]
  },
  {
   "cell_type": "markdown",
   "id": "3c53ebe4-e5c5-4355-9dde-48578d99a737",
   "metadata": {},
   "source": [
    "try block test block of code for errors and except block handles the error"
   ]
  },
  {
   "cell_type": "markdown",
   "id": "0aa81676-2525-4398-a7e6-4ce866ba692b",
   "metadata": {},
   "source": [
    "2. What is the syntax for a basic try-except block?"
   ]
  },
  {
   "cell_type": "markdown",
   "id": "14033ee8-13f5-46b9-a934-e86d86cba6ee",
   "metadata": {},
   "source": [
    "try:\n",
    "    print(x)\n",
    "except:\n",
    "    print(\"an exception has occurred\")\n",
    "    "
   ]
  },
  {
   "cell_type": "markdown",
   "id": "3c453122-214f-4e89-929e-1cf19149e8ac",
   "metadata": {},
   "source": [
    "3. What happens if an exception occurs inside a try block and there is no matching\n",
    "except block?"
   ]
  },
  {
   "cell_type": "markdown",
   "id": "2a7ee32f-afb8-4fc7-a671-f4257ad625e9",
   "metadata": {},
   "source": [
    "once an exception is encountered,the statements after that in the try block are skipped. \n",
    "And if an appropriate except block or a generic except block isn't found, the exception isn't handled.\n",
    "In this case, the rest of the program won't run.\n"
   ]
  },
  {
   "cell_type": "markdown",
   "id": "dc2c4479-0e06-40a1-8495-4da24f5e0b72",
   "metadata": {},
   "source": [
    "4. What is the difference between using a bare except block and specifying a specific\n",
    "exception type?"
   ]
  },
  {
   "cell_type": "markdown",
   "id": "a6202186-a3cd-42be-a78e-58c546e113d3",
   "metadata": {},
   "source": [
    "The purpose of writing \"Exception\" in front of an except clause is to catch all possible exceptions that can occur\n",
    "in the code. By specifying \"Exception\", you are telling the interpreter to handle any type of exception that\n",
    "might be raised. The more specific the exception specified in the except clause, the more targeted the handling\n",
    "of the exception can be. For example, if you only want to handle \"KeyError\" exceptions, you can specify that \n",
    "explicitly in the except clause, as in the first example.\n"
   ]
  },
  {
   "cell_type": "markdown",
   "id": "ce8d6abd-7486-4ceb-99ec-bca81d83c8b4",
   "metadata": {},
   "source": [
    "5. Can you have nested try-except blocks in Python? If yes, then give an example."
   ]
  },
  {
   "cell_type": "code",
   "execution_count": 1,
   "id": "a038d9a3-0b30-4545-801c-9b1221c95e35",
   "metadata": {},
   "outputs": [
    {
     "name": "stdout",
     "output_type": "stream",
     "text": [
      "outer try block\n",
      "Inner try block\n",
      "Inner finally block\n",
      "outer finally block\n"
     ]
    }
   ],
   "source": [
    "#nested try except blocks are allowed in python\n",
    "try:\n",
    "   print(\"outer try block\")\n",
    "   try:\n",
    "       print(\"Inner try block\")\n",
    "   except ZeroDivisionError:\n",
    "       print(\"Inner except block\")\n",
    "   finally:\n",
    "       print(\"Inner finally block\")\n",
    "except:\n",
    "   print(\"outer except block\")\n",
    "finally:\n",
    "   print(\"outer finally block\")"
   ]
  },
  {
   "cell_type": "markdown",
   "id": "0d08b961-3a93-462d-8b54-f3f193864733",
   "metadata": {},
   "source": [
    "6. Can we use multiple exception blocks, if yes then give an example."
   ]
  },
  {
   "cell_type": "code",
   "execution_count": null,
   "id": "1c2450a7-fa50-4e2c-bb50-da15856e6ca2",
   "metadata": {},
   "outputs": [],
   "source": [
    "#we can have multiple exception blocks for a given code\n",
    "try:\n",
    "\tf = open('missing')\n",
    "\texcept OSError:\n",
    "\t\tprint('It failed')\n",
    "\texcept FileNotFoundError:\n",
    "\t\tprint('File not found')\n"
   ]
  },
  {
   "cell_type": "markdown",
   "id": "db2471a7-971d-4def-89c4-49b6175ae08d",
   "metadata": {},
   "source": [
    "7. Write the reason due to which following errors are raised:\n",
    "a. EOFError\n",
    "b. FloatingPointError\n",
    "c. IndexError\n",
    "d. MemoryError\n",
    "e. OverflowError\n",
    "f. TabError\n",
    "g. ValueError"
   ]
  },
  {
   "cell_type": "markdown",
   "id": "48388616-4ea2-497a-8edb-f4c359e81f02",
   "metadata": {},
   "source": [
    "7.\n",
    "a.\n",
    "EOFError is raised when one of the built-in functions input() or raw_input() hits an end-of-file condition (EOF)\n",
    "without reading any data. This error is sometimes experienced while using online IDEs.\n",
    "b.\n",
    "It’s a problem caused when the internal representation of floating-point numbers, which uses a fixed number of\n",
    "binary digits to represent a decimal number. It is difficult to represent some decimal number in binary, so in\n",
    "many cases, it leads to small roundoff errors.\n",
    "c.\n",
    "This error occurs when an attempt is made to access an item in a list at an index which is out of bounds. \n",
    "The range of a list in Python is [0, n-1], where n is the number of elements in the list.\n",
    "d.\n",
    "A MemoryError means that the interpreter has run out of memory to allocate to your Python program. \n",
    "This may be due to an issue in the setup of the Python environment or it may be a concern with the code itself\n",
    "loading too much data at the same time.\n",
    "e.\n",
    " OverflowError occurs when any operations like arithmetic operations or any other variable storing any value above its limit then there occurs an overflow of values that will exceed it's specified or already defined limit. \n",
    "f.\n",
    "\"TabError: inconsistent use of tabs and spaces in indentation\" occurs when we mix tabs and spaces in the same code block. To solve the error, remove the spacing and only use tabs or spaces, but don't mix the two in the same code block.\n",
    "g.\n",
    " ValueError occurs when a function is called with the proper argument type but with the wrong value. This kind of mistake frequently occurs during mathematical calculations, when a ValueError Python arises."
   ]
  },
  {
   "cell_type": "markdown",
   "id": "fda330a6-9d92-4aba-9d50-e3ac59074cd3",
   "metadata": {},
   "source": [
    "8. \n",
    "a.Write  Program to divide two numbers"
   ]
  },
  {
   "cell_type": "code",
   "execution_count": 7,
   "id": "6aa71b71-7731-4d42-b0a7-d22fff0f93b6",
   "metadata": {},
   "outputs": [
    {
     "name": "stdin",
     "output_type": "stream",
     "text": [
      "enter first number: 7\n",
      "enter 2nd number: 0\n"
     ]
    },
    {
     "name": "stdout",
     "output_type": "stream",
     "text": [
      "error!!! 0\n"
     ]
    }
   ],
   "source": [
    "a=int(input(\"enter first number:\"))\n",
    "b=int(input(\"enter 2nd number:\"))\n",
    "if(b!=0):\n",
    "    c=a/b\n",
    "    print(\"division done \",c)\n",
    "elif(b==0):\n",
    "    try:\n",
    "        c=a/b\n",
    "    \n",
    "    except ZeroDivisionError:\n",
    "        c=0\n",
    "        print(\"error!!!\",c)\n",
    "    \n",
    "        \n"
   ]
  },
  {
   "cell_type": "markdown",
   "id": "9b199e52-b3ae-4c3f-83b5-1dd50e82acf9",
   "metadata": {},
   "source": [
    "8.\n",
    "b. Program to convert a string to an integer"
   ]
  },
  {
   "cell_type": "code",
   "execution_count": 4,
   "id": "9cf68fbd-5858-47fe-95a1-cadd8ea4baeb",
   "metadata": {},
   "outputs": [
    {
     "name": "stdout",
     "output_type": "stream",
     "text": [
      "Please enter an integer\n"
     ]
    }
   ],
   "source": [
    "string = \"hey\"\n",
    "try:\n",
    "    string_int = int(string)\n",
    "    print(string_int)\n",
    "except ValueError:\n",
    "    # Handle the exception\n",
    "    print('Please enter an integer')"
   ]
  },
  {
   "cell_type": "markdown",
   "id": "3e50f002-4808-4cf4-abb0-687a06565ff9",
   "metadata": {},
   "source": [
    "8.\n",
    "c.Program to access an element in a list"
   ]
  },
  {
   "cell_type": "code",
   "execution_count": 8,
   "id": "919d283c-a5f9-4cc7-a72d-1f3a5336459a",
   "metadata": {},
   "outputs": [
    {
     "name": "stdout",
     "output_type": "stream",
     "text": [
      "The original list : [6, 4, 8, 9, 10]\n",
      "The value after catching error : Element not in list !\n"
     ]
    }
   ],
   "source": [
    "\n",
    "list1 = [6, 4, 8, 9, 10]\n",
    "\n",
    "print(\"The original list : \" + str(list1))\n",
    "try :\n",
    "\tlist1.index(11)\n",
    "\tres = \"Element found\"\n",
    "except ValueError :\n",
    "\tres = \"Element not in list !\"\n",
    "\n",
    "print(\"The value after catching error : \" + str(res))\n"
   ]
  },
  {
   "cell_type": "markdown",
   "id": "2906c231-f6de-47cb-a5d2-cffcb214569c",
   "metadata": {},
   "source": [
    "8.\n",
    "d. Program to handle a specific exception"
   ]
  },
  {
   "cell_type": "code",
   "execution_count": 6,
   "id": "eccef37d-7052-4556-a97a-01db7a725532",
   "metadata": {},
   "outputs": [
    {
     "name": "stdout",
     "output_type": "stream",
     "text": [
      "ZeroDivisionError Occurred and Handled\n"
     ]
    }
   ],
   "source": [
    "\n",
    "def fun(a):\n",
    "\tif a < 4:\n",
    "\t\tb = a/(a-3)\n",
    "\n",
    "\tprint(\"Value of b = \", b)\n",
    "\t\n",
    "try:\n",
    "\tfun(3)\n",
    "\tfun(5)\n",
    "\n",
    "except ZeroDivisionError:\n",
    "\tprint(\"ZeroDivisionError Occurred and Handled\")\n",
    "except NameError:\n",
    "\tprint(\"NameError Occurred and Handled\")\n"
   ]
  },
  {
   "cell_type": "markdown",
   "id": "4ab6e35e-e696-4921-ba4f-da57bad27101",
   "metadata": {},
   "source": [
    "8.\n",
    "e. Program to handle any exception"
   ]
  },
  {
   "cell_type": "code",
   "execution_count": 5,
   "id": "43c4d851-b375-4892-9b79-b79e0dc66b82",
   "metadata": {},
   "outputs": [
    {
     "name": "stdout",
     "output_type": "stream",
     "text": [
      "Second element = 2\n",
      "An error occurred\n"
     ]
    }
   ],
   "source": [
    "a = [1, 2, 3]\n",
    "try:\n",
    "\tprint (\"Second element = %d\" %(a[1]))\n",
    "\n",
    "\t# Throws error since there are only 3 elements in array\n",
    "\tprint (\"Fourth element = %d\" %(a[3]))\n",
    "\n",
    "except:\n",
    "\tprint (\"An error occurred\")\n"
   ]
  },
  {
   "cell_type": "code",
   "execution_count": null,
   "id": "138bbf49-e054-470e-8994-bf7a5f38fc17",
   "metadata": {},
   "outputs": [],
   "source": []
  }
 ],
 "metadata": {
  "kernelspec": {
   "display_name": "Python 3 (ipykernel)",
   "language": "python",
   "name": "python3"
  },
  "language_info": {
   "codemirror_mode": {
    "name": "ipython",
    "version": 3
   },
   "file_extension": ".py",
   "mimetype": "text/x-python",
   "name": "python",
   "nbconvert_exporter": "python",
   "pygments_lexer": "ipython3",
   "version": "3.10.6"
  }
 },
 "nbformat": 4,
 "nbformat_minor": 5
}
