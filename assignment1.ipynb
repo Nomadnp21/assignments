{
 "cells": [
  {
   "cell_type": "markdown",
   "id": "2bcbcd56-1e0d-4ea4-b317-cbaa34794d8b",
   "metadata": {},
   "source": [
    "1. In the below elements which of them are values or an expression? eg:- values can be\n",
    "integer or string and expressions will be mathematical operators.\n",
    "*\n",
    "\"hello\"\n",
    "-87.8\n",
    "-\n",
    "/\n",
    "+\n",
    "6\n",
    "Sol:-\n",
    "*,+,-,/ are expressions\n",
    "\"hello\",-87.8,6 are values"
   ]
  },
  {
   "cell_type": "markdown",
   "id": "9d384b32-d3af-498d-99f9-edb9d521f463",
   "metadata": {},
   "source": [
    "2. What is the difference between string and variable?\n",
    "Sol:-\n",
    "A variable is store of information and string is a type of information you  would store in a variable.A string is generally\n",
    "enclosed with \"\"."
   ]
  },
  {
   "cell_type": "markdown",
   "id": "b1090f69-94d2-471f-8334-c920cd514623",
   "metadata": {},
   "source": [
    "3. Describe three different data types.\n",
    "Sol:- data types in python are:\n",
    "1.Numeric- Integer,Float and Complex numbers are in numeric data type.\n",
    "a.Integer are positive or negative whole numbers without\n",
    "fraction eg 7,5,-5,-3 etc.\n",
    "b.Float is a real number with floating point representation,is specified with decimal point eg3.5,8.9 etc.\n",
    "c.Complex numbers is specified as real part and imaginary part eg 8+3j etc\n",
    "2.Sequence- is the ordered collection of similar or different data types.\n",
    "a.String-is collection of one or more characters in single,double or triple quotes.It is represented as str class\n",
    "b.List-is ordered collection of data just like array, is enclosed between [].\n",
    "c.Tuple-is ordered collection of data,immutable,enclosed within ().\n",
    "3.Dictionary-is unordered collection of data values,used to store data values like map.Dictionary holds key:value pair\n"
   ]
  },
  {
   "cell_type": "markdown",
   "id": "3b941787-c744-4838-ae62-e69bc8280b6b",
   "metadata": {},
   "source": [
    "4. What is an expression made up of? What do all expressions do?\n",
    "Sol:\n",
    "An expression is a combination of operators and operands that is interpreted to produce some other value.An expression\n",
    "is evaluated as per precedence of its operators."
   ]
  },
  {
   "cell_type": "markdown",
   "id": "04394de4-57bd-42fc-9637-59d6d2e07a5b",
   "metadata": {},
   "source": [
    "5. This assignment statements, like spam = 10. What is the difference between an\n",
    "expression and a statement?\n",
    "Expressions can be used or assigned as operands,while statements can only be declared.\n",
    "Expressions are unique in meaning while statements are two sided in execution.eg 2 has a certain value while go() may be \n",
    "executed or not.\n",
    "Statements are whole structure,while expressions are building blocks.for example,a line or block of code is statement"
   ]
  },
  {
   "cell_type": "markdown",
   "id": "ed1c34ef-2397-47a3-9e29-55671325f668",
   "metadata": {},
   "source": [
    "6. After running the following code, what does the variable bacon contain?\n",
    "bacon = 22\n",
    "bacon + 1"
   ]
  },
  {
   "cell_type": "code",
   "execution_count": 1,
   "id": "6426a886-ade9-4ef7-9ad4-65872a28ba42",
   "metadata": {},
   "outputs": [
    {
     "name": "stdout",
     "output_type": "stream",
     "text": [
      "22\n"
     ]
    }
   ],
   "source": [
    "bacon =22\n",
    "bacon+1\n",
    "print(bacon)"
   ]
  },
  {
   "cell_type": "markdown",
   "id": "e62a3e34-4450-4cb2-8ee4-d5a966b760ab",
   "metadata": {},
   "source": [
    "7. What should the values of the following two terms be?\n",
    "'spam' + 'spamspam'\n",
    "'spam' * 3"
   ]
  },
  {
   "cell_type": "code",
   "execution_count": 2,
   "id": "1e381e2f-f629-4738-8488-4794520171ab",
   "metadata": {},
   "outputs": [
    {
     "name": "stdout",
     "output_type": "stream",
     "text": [
      "spamspamspam\n",
      "spamspamspam\n"
     ]
    }
   ],
   "source": [
    "print('spam'+'spamspam')\n",
    "print('spam'*3)"
   ]
  },
  {
   "cell_type": "markdown",
   "id": "719d57a2-836b-43ab-bf71-00b235cd4ff2",
   "metadata": {},
   "source": [
    "8. Why is eggs a valid variable name while 100 is invalid?\n",
    "Sol:\n",
    "while naming a variable first letter can be character or underscore but not numeral\n",
    "therefore,eggs is a valid variable name but not 100"
   ]
  },
  {
   "cell_type": "markdown",
   "id": "a94beb5e-0c15-4143-a350-22c52f1fc34f",
   "metadata": {},
   "source": [
    "9. What three functions can be used to get the integer, floating-point number, or string\n",
    "version of a value?\n",
    "Sol:\n",
    "The int(),float(),str() functions are used to get integer,float and string version of a value"
   ]
  },
  {
   "cell_type": "markdown",
   "id": "c4d829d5-b073-46f1-b368-7d519fc6513c",
   "metadata": {},
   "source": [
    "10. Why does this expression cause an error? How can you fix it?\n",
    "'I have eaten ' + 99 + ' burritos.'\n",
    "Sol:\n",
    "99 is integer numeral and hence cannot be concatenated with other string ,so to fix the error we can enclosed 99 with  \n",
    " single or double quotes"
   ]
  },
  {
   "cell_type": "code",
   "execution_count": 4,
   "id": "3b4e912a-7f81-47f8-8065-f8e63538d96b",
   "metadata": {},
   "outputs": [
    {
     "name": "stdout",
     "output_type": "stream",
     "text": [
      "I have eaten 99  burritos\n"
     ]
    }
   ],
   "source": [
    "print('I have eaten '+ '99 ' + ' burritos')"
   ]
  },
  {
   "cell_type": "code",
   "execution_count": null,
   "id": "e9b9d03b-5e95-4774-95bb-bc59346cd66a",
   "metadata": {},
   "outputs": [],
   "source": []
  }
 ],
 "metadata": {
  "kernelspec": {
   "display_name": "Python 3 (ipykernel)",
   "language": "python",
   "name": "python3"
  },
  "language_info": {
   "codemirror_mode": {
    "name": "ipython",
    "version": 3
   },
   "file_extension": ".py",
   "mimetype": "text/x-python",
   "name": "python",
   "nbconvert_exporter": "python",
   "pygments_lexer": "ipython3",
   "version": "3.10.6"
  }
 },
 "nbformat": 4,
 "nbformat_minor": 5
}
