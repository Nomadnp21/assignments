{
 "cells": [
  {
   "cell_type": "code",
   "execution_count": null,
   "id": "d21f9663-0f12-4937-91b5-16387045b839",
   "metadata": {},
   "outputs": [],
   "source": [
    "Q.1. Create two int type variables, apply addition, subtraction, division and multiplications\n",
    "and store the results in variables. Then print the data in the following format by calling the\n",
    "variables:\n",
    "First variable is __ & second variable is __.\n",
    "Addition: __ + __ = __\n",
    "Subtraction: __ - __ = __\n",
    "Multiplication: __ * __ = __\n",
    "Division: __ / __ = __"
   ]
  },
  {
   "cell_type": "code",
   "execution_count": 1,
   "id": "11d82e1b-69e0-4889-96ca-7fb04bd9824d",
   "metadata": {},
   "outputs": [
    {
     "name": "stdin",
     "output_type": "stream",
     "text": [
      "enter first variable 4\n",
      "enter second variable 2\n"
     ]
    },
    {
     "name": "stdout",
     "output_type": "stream",
     "text": [
      "First Variable is  4 & second variable is  2\n",
      "6\n",
      "Addition: 4 + 2 = None\n",
      "2\n",
      "Substraction: 4 - 2 = None\n",
      "8\n",
      "Multiplication: 4 * 2 = None\n",
      "2.0\n",
      "Division: 4 / 2 = None\n"
     ]
    }
   ],
   "source": [
    "a=int(input(\"enter first variable\"))\n",
    "b=int(input(\"enter second variable\"))\n",
    "def add(a,b):\n",
    "    c=a+b\n",
    "    print(c)\n",
    "def sub(a,b):\n",
    "    d=a-b\n",
    "    print(d)\n",
    "def mul(a,b):\n",
    "    e=a*b\n",
    "    print(e)\n",
    "def div(a,b):\n",
    "    f=a/b\n",
    "    print(f)\n",
    "print(\"First Variable is \",a,\"& second variable is \",b)\n",
    "print(\"Addition:\",a,\"+\",b,\"=\",add(a,b))\n",
    "print(\"Substraction:\",a,\"-\",b,\"=\",sub(a,b))\n",
    "print(\"Multiplication:\",a,\"*\",b,\"=\",mul(a,b))\n",
    "print(\"Division:\",a,\"/\",b,\"=\",div(a,b))"
   ]
  },
  {
   "cell_type": "markdown",
   "id": "c12be294-a082-4615-927d-6ba27f6d59e7",
   "metadata": {},
   "source": [
    "Q.2. What is the difference between the following operators:\n",
    "(i) ‘/’ & ‘//’\n",
    "(ii) ‘**’ & ‘^’"
   ]
  },
  {
   "cell_type": "markdown",
   "id": "96017e8a-366a-43dd-a53b-50e57cf55227",
   "metadata": {},
   "source": [
    "(i)\n",
    "The ‘/’ single slash carries out the float division. \n",
    "The output of this operator is always a quotient with a float datatype. \n",
    "The output remains float even if the input numbers are integer values.\n",
    "The ‘//’ double slash carries out integer division which is also known as floor division.\n",
    "The output of this operator will be the quotient rounded off to the closest whole number."
   ]
  },
  {
   "cell_type": "markdown",
   "id": "4b9a2413-15f9-4f99-a137-c171b9ef631e",
   "metadata": {},
   "source": [
    "(ii)\n",
    " ** is the exponentiation operator, and ^ is the XOR operator"
   ]
  },
  {
   "cell_type": "markdown",
   "id": "39c074e6-2329-49c4-93be-c36cdb6f1a7e",
   "metadata": {},
   "source": [
    "Q.3. List the logical operators."
   ]
  },
  {
   "cell_type": "markdown",
   "id": "dd161514-a2d6-400c-9d02-4fe34595959e",
   "metadata": {},
   "source": [
    "AND operator\n",
    "when both operands are True only then the result will be True otherwise False\n",
    "OR operator\n",
    "when any of one operand is True the result will be True\n",
    "NOT operator\n",
    "reverses the result"
   ]
  },
  {
   "cell_type": "markdown",
   "id": "87145b38-d16f-4d47-8a69-1a4dedd34c58",
   "metadata": {},
   "source": [
    "Q.4. Explain right shift operator and left shift operator with examples."
   ]
  },
  {
   "cell_type": "markdown",
   "id": "9501699e-7868-436b-abc6-c0ae15c461a3",
   "metadata": {},
   "source": [
    "Bitwise right shift: Shifts the bits of the number to the right and fills 0 on voids left\n",
    "( fills 1 in the case of a negative number) as a result. \n",
    "a = 10 = 0000 1010 (Binary)\n",
    "a >> 1 = 0000 0101 = 5\n",
    "Bitwise left shift: Shifts the bits of the number to the left and fills 0 on voids right as a result.\n",
    "a = 5 = 0000 0101 (Binary)\n",
    "a << 1 = 0000 1010 = 10\n",
    "a << 2 = 0001 0100 = 20 "
   ]
  },
  {
   "cell_type": "markdown",
   "id": "8d562eea-2fc8-4835-bc42-5fdf401b24d3",
   "metadata": {},
   "source": [
    "Q.5. Create a list containing int type data of length 15. Then write a code to check if 10 is\n",
    "present in the list or not."
   ]
  },
  {
   "cell_type": "code",
   "execution_count": 2,
   "id": "3dc7bed4-c6be-48e2-85a0-2485e7f5cc16",
   "metadata": {},
   "outputs": [
    {
     "name": "stdout",
     "output_type": "stream",
     "text": [
      "10 is present in list l\n"
     ]
    }
   ],
   "source": [
    "l=[1,2,3,4,5,6,7,8,9,0,10,11,12,13,67,45]\n",
    "if 10 in l:\n",
    "    print(\"10 is present in list l\")"
   ]
  },
  {
   "cell_type": "code",
   "execution_count": null,
   "id": "bdefbfbc-6f18-4d1e-8cec-aa99c823b91a",
   "metadata": {},
   "outputs": [],
   "source": []
  }
 ],
 "metadata": {
  "kernelspec": {
   "display_name": "Python 3 (ipykernel)",
   "language": "python",
   "name": "python3"
  },
  "language_info": {
   "codemirror_mode": {
    "name": "ipython",
    "version": 3
   },
   "file_extension": ".py",
   "mimetype": "text/x-python",
   "name": "python",
   "nbconvert_exporter": "python",
   "pygments_lexer": "ipython3",
   "version": "3.10.6"
  }
 },
 "nbformat": 4,
 "nbformat_minor": 5
}
