{
 "cells": [
  {
   "cell_type": "markdown",
   "id": "7c4e9277-c23b-469b-9b51-255c04769f65",
   "metadata": {},
   "source": [
    "1. In Python, what is the difference between a built-in function and a user-defined function? Provide an\n",
    "example of each."
   ]
  },
  {
   "cell_type": "markdown",
   "id": "663a42e4-2f28-410a-8231-c91ef742f261",
   "metadata": {},
   "source": [
    "The python function that come along with python are known as in- built functions.\n",
    "e.g. sqrt(),pow() are in math library\n",
    "If we define function ourself, it is user- defined functions\n",
    "e.g. calc() are user defined functions\n",
    "def calc():\n",
    "    x=int(input(\"enter number1\"))\n",
    "    y=int(input(\"enter number 2\"))\n",
    "    z=x+y\n",
    "    print(\"sum of numbers:\",z)\n",
    "\n",
    "calc()"
   ]
  },
  {
   "cell_type": "markdown",
   "id": "25cb07d6-56aa-4afd-8557-c05164728c61",
   "metadata": {},
   "source": [
    "2. How can you pass arguments to a function in Python? Explain the difference between positional\n",
    "arguments and keyword arguments."
   ]
  },
  {
   "cell_type": "markdown",
   "id": "d9006c0d-b05e-49fa-8cba-8f25e22ffbea",
   "metadata": {},
   "source": [
    "python functions can contain two types of arguments:positional arguments and keyword arguments.\n",
    "positional arguments must be included in correct order.\n",
    "keyword arguments are included with keyword and equals sign.\n"
   ]
  },
  {
   "cell_type": "markdown",
   "id": "172e5049-18c5-45f7-a354-5b1a870a103a",
   "metadata": {},
   "source": [
    "3. What is the purpose of the return statement in a function? Can a function have multiple return\n",
    "statements? Explain with an example."
   ]
  },
  {
   "cell_type": "markdown",
   "id": "fe99f31b-bc81-405b-9a6f-920d01c3f3a1",
   "metadata": {},
   "source": [
    "A method can have multiple return statements but only one of them will be executed because once a return statement\n",
    "is executed,the program control moves back to caller method skipping the remaining statements "
   ]
  },
  {
   "cell_type": "markdown",
   "id": "1841c914-3f65-4a5f-b9c1-c8742ca404ed",
   "metadata": {},
   "source": [
    "4. What are lambda functions in Python? How are they different from regular functions? Provide an\n",
    "example where a lambda function can be useful."
   ]
  },
  {
   "cell_type": "markdown",
   "id": "eb2bf6e3-7a99-4c3f-918a-bbcefd516a81",
   "metadata": {},
   "source": [
    "Lambda function is an anonymous function that can take any number of arguments but,unlike normal function,\n",
    "evaluates and return only one expression."
   ]
  },
  {
   "cell_type": "code",
   "execution_count": 1,
   "id": "e99bee88-6f0d-4fa1-bf46-9571f64907d6",
   "metadata": {},
   "outputs": [
    {
     "name": "stdout",
     "output_type": "stream",
     "text": [
      "four times of number is : 20\n",
      "four times of number is : 28\n"
     ]
    }
   ],
   "source": [
    "def fourtimes(x):\n",
    "    z= 4*x\n",
    "    print(\"four times of number is :\",z)\n",
    "    \n",
    "fourtimes(5)\n",
    "fourtimes(7)\n",
    "    "
   ]
  },
  {
   "cell_type": "code",
   "execution_count": 2,
   "id": "48248fdd-0606-43e5-8c8b-7be6062e94d0",
   "metadata": {},
   "outputs": [
    {
     "name": "stdout",
     "output_type": "stream",
     "text": [
      "20\n",
      "28\n"
     ]
    }
   ],
   "source": [
    "x= lambda y : 4*y\n",
    "print(x(5))\n",
    "print(x(7))"
   ]
  },
  {
   "cell_type": "markdown",
   "id": "b93ae19e-f94f-40a6-a587-e2fb58b17267",
   "metadata": {},
   "source": [
    "5. How does the concept of \"scope\" apply to functions in Python? Explain the difference between local\n",
    "scope and global scope."
   ]
  },
  {
   "cell_type": "markdown",
   "id": "fbe13f28-0a2c-459f-9e21-7730155bc631",
   "metadata": {},
   "source": [
    "A variable is only available from inside the region it is created. This is called scope.\n",
    "Python Global variables are those which are not defined inside any function and have a global scope whereas Python local variables are those which are defined inside a function and their scope is limited to that function only."
   ]
  },
  {
   "cell_type": "markdown",
   "id": "e6dfcf5a-d90e-477e-9a4d-6a380c538c76",
   "metadata": {},
   "source": [
    "6. How can you use the \"return\" statement in a Python function to return multiple values?"
   ]
  },
  {
   "cell_type": "code",
   "execution_count": 2,
   "id": "cafecdd3-ea71-4fcd-b2e4-4e92cf702eb0",
   "metadata": {},
   "outputs": [
    {
     "name": "stdout",
     "output_type": "stream",
     "text": [
      "nishthapathakpandey\n",
      "30\n"
     ]
    }
   ],
   "source": [
    "# A Python program to return multiple\n",
    "# values from a method using tuple\n",
    "\n",
    "# This function returns a tuple\n",
    "def fun():\n",
    "\tstr = \"nishthapathakpandey\"\n",
    "\tx = 30\n",
    "\treturn str, x # Return tuple, we could also\n",
    "\t\t\t\t\t# write (str, x)\n",
    "\n",
    "# Driver code to test above method\n",
    "str, x = fun() # Assign returned tuple\n",
    "print(str)\n",
    "print(x)\n"
   ]
  },
  {
   "cell_type": "markdown",
   "id": "a19f5e8a-e3e2-4622-99da-ac108bf7293e",
   "metadata": {},
   "source": [
    "7. What is the difference between the \"pass by value\" and \"pass by reference\" concepts when it\n",
    "comes to function arguments in Python?"
   ]
  },
  {
   "cell_type": "markdown",
   "id": "c4e4d830-a002-4818-b826-48da4a12c775",
   "metadata": {},
   "source": [
    "difference between pass by value and pass by reference is ,in pass by value,the parameter  value\n",
    "copies to another variable,in pass by reference , the actual parameter passes to the function"
   ]
  },
  {
   "cell_type": "markdown",
   "id": "917be3a1-351e-4482-b28c-21985211e8a8",
   "metadata": {},
   "source": [
    "8. Create a function that can intake integer or decimal value and do following operations:\n",
    "a. Logarithmic function (log x)\n",
    "b. Exponential function (exp(x))\n",
    "c. Power function base 2 \n",
    "d. Square root"
   ]
  },
  {
   "cell_type": "code",
   "execution_count": 1,
   "id": "8851f2a1-a575-44ed-9208-967ad5a8fdb9",
   "metadata": {},
   "outputs": [
    {
     "name": "stdin",
     "output_type": "stream",
     "text": [
      "enter number for log 2\n"
     ]
    },
    {
     "name": "stdout",
     "output_type": "stream",
     "text": [
      "logarithmic function is  0.6931471805599453\n"
     ]
    },
    {
     "name": "stdin",
     "output_type": "stream",
     "text": [
      "enter number for exp 5\n"
     ]
    },
    {
     "name": "stdout",
     "output_type": "stream",
     "text": [
      "exponent is  148.4131591025766\n"
     ]
    },
    {
     "name": "stdin",
     "output_type": "stream",
     "text": [
      "enter number 5\n"
     ]
    },
    {
     "name": "stdout",
     "output_type": "stream",
     "text": [
      "power is  32.0\n"
     ]
    },
    {
     "name": "stdin",
     "output_type": "stream",
     "text": [
      "enter number 25\n"
     ]
    },
    {
     "name": "stdout",
     "output_type": "stream",
     "text": [
      "square root of number is  5.0\n"
     ]
    }
   ],
   "source": [
    "import math\n",
    "\n",
    "def lognum():\n",
    "    x=int(input(\"enter number for log\"))\n",
    "    print(\"logarithmic function is \",math.log(x))\n",
    "def expnum():\n",
    "    y=int(input(\"enter number for exp\"))\n",
    "    print(\"exponent is \",math.exp(y))\n",
    "def pownum():\n",
    "    z=int(input(\"enter number for power base 2\"))\n",
    "    print(\"power is \",math.pow(2,z))\n",
    "    \n",
    "def sqrtnum():\n",
    "    a=int(input(\"enter number for finding squareroot\"))\n",
    "    print(\"square root of number is \",math.sqrt(a))\n",
    "    \n",
    "lognum()\n",
    "expnum()\n",
    "pownum()\n",
    "sqrtnum()\n",
    "\n"
   ]
  },
  {
   "cell_type": "markdown",
   "id": "bbee1654-660c-4370-a330-09f07140a208",
   "metadata": {},
   "source": [
    "9. Create a function that takes a full name as an argument and returns first name and last name."
   ]
  },
  {
   "cell_type": "code",
   "execution_count": 2,
   "id": "6fe5ca4e-882e-400b-95e3-7b5ca6f832df",
   "metadata": {},
   "outputs": [
    {
     "data": {
      "text/plain": [
       "('akshat', 'pandey')"
      ]
     },
     "execution_count": 2,
     "metadata": {},
     "output_type": "execute_result"
    }
   ],
   "source": [
    "def name(sname):\n",
    "    sname.split()\n",
    "    first=sname.split()[0]\n",
    "    last=sname.split()[-1]\n",
    "    return(first,last)\n",
    "\n",
    "name(\"akshat pandey\")"
   ]
  },
  {
   "cell_type": "code",
   "execution_count": null,
   "id": "9043534f-2681-426c-8238-dc0ef434ec74",
   "metadata": {},
   "outputs": [],
   "source": []
  }
 ],
 "metadata": {
  "kernelspec": {
   "display_name": "Python 3 (ipykernel)",
   "language": "python",
   "name": "python3"
  },
  "language_info": {
   "codemirror_mode": {
    "name": "ipython",
    "version": 3
   },
   "file_extension": ".py",
   "mimetype": "text/x-python",
   "name": "python",
   "nbconvert_exporter": "python",
   "pygments_lexer": "ipython3",
   "version": "3.10.6"
  }
 },
 "nbformat": 4,
 "nbformat_minor": 5
}
