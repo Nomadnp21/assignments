{
 "cells": [
  {
   "cell_type": "markdown",
   "id": "272bc8d0-4a87-4a7b-83ff-e28789419284",
   "metadata": {},
   "source": [
    "1. Explain what inheritance is in object-oriented programming and why it is used."
   ]
  },
  {
   "cell_type": "markdown",
   "id": "ff603171-6ff2-4acb-b89d-ce90029e38d0",
   "metadata": {},
   "source": [
    "In OOPs, inheritance is a mechanism that allows a class to inherit properties and behaviors from another class.\n",
    "By inheritance, we can achieve reusability of code."
   ]
  },
  {
   "cell_type": "markdown",
   "id": "969cc704-dc4a-4907-9aaf-5c37761df09e",
   "metadata": {},
   "source": [
    "2. Discuss the concept of single inheritance and multiple inheritance, highlighting their\n",
    "differences and advantages."
   ]
  },
  {
   "cell_type": "markdown",
   "id": "e662169d-01a2-4610-8a18-a69269acab02",
   "metadata": {},
   "source": [
    "Single inheritance enables a derived class to inherit properties from a single parent class,\n",
    "thus enabling code reusability and the addition of new features to existing code.\n",
    "When a class can be derived from more than one base class this type of inheritance is called multiple inheritances. \n",
    "In multiple inheritances, all the features of the base classes are inherited into the derived class. \n",
    "Advantages:\n",
    "code reusability,flexibility and better organisation \n",
    "Disadvantages:\n",
    "increased complexity,naming conflict and maintenance issues. single inheritance has less overhead than multiple"
   ]
  },
  {
   "cell_type": "markdown",
   "id": "060ba293-f739-4d42-905d-826cb77f47ad",
   "metadata": {},
   "source": [
    "3. Explain the terms \"base class\" and \"derived class\" in the context of inheritance."
   ]
  },
  {
   "cell_type": "markdown",
   "id": "5c2c3be9-a8b5-4fd0-93d6-a11e017a1986",
   "metadata": {},
   "source": [
    "The class whose members are inherited is called the base class,\n",
    "and the class that inherits those members is called the derived class"
   ]
  },
  {
   "cell_type": "markdown",
   "id": "1ac10a86-aad5-422c-90af-e141469d0d61",
   "metadata": {},
   "source": [
    "4. What is the significance of the \"protected\" access modifier in inheritance? How does\n",
    "it differ from \"private\" and \"public\" modifiers?"
   ]
  },
  {
   "cell_type": "markdown",
   "id": "51bf028b-4ac1-427f-b704-4bbff2c6243f",
   "metadata": {},
   "source": [
    "Protected access modifiers allow the data members to be accessed by class, package, subclass (same package),\n",
    "subclass (different package). The difference between public and protected is that public can be accessed from \n",
    "outside class but protected cannot be accessed from outside class.\n"
   ]
  },
  {
   "cell_type": "markdown",
   "id": "9a2d69d0-efbe-4a9e-9f69-c49c2749a99f",
   "metadata": {},
   "source": [
    "5. What is the purpose of the \"super\" keyword in inheritance? Provide an example."
   ]
  },
  {
   "cell_type": "markdown",
   "id": "614dcb3b-82a0-4b4f-a18a-24bd10281c42",
   "metadata": {},
   "source": [
    "the super() function is used to refer to the parent class or superclass.\n",
    "It allows you to call methods defined in the superclass from the subclass, enabling you to extend\n",
    "and customize the functionality inherited from the parent class."
   ]
  },
  {
   "cell_type": "code",
   "execution_count": 1,
   "id": "ee7f1766-7476-4da5-89ec-fd523a79eacf",
   "metadata": {},
   "outputs": [
    {
     "name": "stdout",
     "output_type": "stream",
     "text": [
      "The ID is: 21\n",
      "The Name is: nishtha\n",
      "The Address is: raipur\n",
      "The Emails is: npp@gmails\n"
     ]
    }
   ],
   "source": [
    "class Emp():\n",
    "\tdef __init__(self, id, name, Add):\n",
    "\t\tself.id = id\n",
    "\t\tself.name = name\n",
    "\t\tself.Add = Add\n",
    "\n",
    "# Class freelancer inherits EMP\n",
    "class Freelance(Emp):\n",
    "\tdef __init__(self, id, name, Add, Emails):\n",
    "\t\tsuper().__init__(id, name, Add)\n",
    "\t\tself.Emails = Emails\n",
    "\n",
    "Emp_1 = Freelance(21, \"nishtha\", \"raipur\" , \"npp@gmails\")\n",
    "print('The ID is:', Emp_1.id)\n",
    "print('The Name is:', Emp_1.name)\n",
    "print('The Address is:', Emp_1.Add)\n",
    "print('The Emails is:', Emp_1.Emails)\n"
   ]
  },
  {
   "cell_type": "code",
   "execution_count": null,
   "id": "755432cb-6c71-4687-9a2f-be208482535b",
   "metadata": {},
   "outputs": [],
   "source": [
    "6.Create a base class called \"Vehicle\" with attributes like \"make\", \"model\", and \"year\".\n",
    "Then, create a derived class called \"Car\" that inherits from \"Vehicle\" and adds an\n",
    "attribute called \"fuel_type\". Implement appropriate methods in both classes."
   ]
  },
  {
   "cell_type": "code",
   "execution_count": 3,
   "id": "d8db5535-c533-449e-8625-7e329a3fe797",
   "metadata": {},
   "outputs": [
    {
     "name": "stdout",
     "output_type": "stream",
     "text": [
      "make is: hybrid\n",
      "model is: ev\n",
      "year is : 2023\n",
      "fuel type is: petrol\n"
     ]
    }
   ],
   "source": [
    "class Vehicle():\n",
    "    def __init__(self,make,model,year):\n",
    "        self.make=make\n",
    "        self.model=model\n",
    "        self.year=year\n",
    "class Car(Vehicle):\n",
    "    def __init__(self,make,models,year,fuel_type):\n",
    "        super().__init__(make,models,year)\n",
    "        self.fuel_type=fuel_type\n",
    "amaze=Car(\"hybrid\",\"ev\",2023,\"petrol\")\n",
    "print(\"make is:\",amaze.make)\n",
    "print(\"model is:\",amaze.model)\n",
    "print(\"year is :\",amaze.year)\n",
    "print(\"fuel type is:\",amaze.fuel_type)\n",
    "\n",
    "    "
   ]
  },
  {
   "cell_type": "markdown",
   "id": "2c2a8df7-dc1e-4139-b118-e3a5f51ee391",
   "metadata": {},
   "source": [
    "7. Create a base class called \"Employee\" with attributes like \"name\" and \"salary.\"\n",
    "Derive two classes, \"Manager\" and \"Developer,\" from \"Employee.\" Add an additional\n",
    "attribute called \"department\" for the \"Manager\" class and \"programming_language\"\n",
    "for the \"Developer\" class."
   ]
  },
  {
   "cell_type": "code",
   "execution_count": 8,
   "id": "6d7eb35d-9772-4fde-8143-b27b2987395e",
   "metadata": {},
   "outputs": [],
   "source": [
    "class Employee():\n",
    "    def __init__(self,name,salary):\n",
    "        self.name=name\n",
    "        self.salary=salary\n",
    "class Manager(Employee):\n",
    "    def __init__(self,name,salary,department):\n",
    "        super().__init__(name,salary)\n",
    "        self.department=department\n",
    "    \n",
    "class Developer(Employee):\n",
    "    def __init__(self,name,salary,programming_language):\n",
    "        super().__init__(name,salary)\n",
    "        self.programming_language=programming_language\n",
    "        "
   ]
  },
  {
   "cell_type": "markdown",
   "id": "e7905e10-aa8d-4473-a900-87eb0f0614f1",
   "metadata": {},
   "source": [
    "8. Design a base class called \"Shape\" with attributes like \"colour\" and \"border_width.\"\n",
    "Create derived classes, \"Rectangle\" and \"Circle,\" that inherit from \"Shape\" and add\n",
    "specific attributes like \"length\" and \"width\" for the \"Rectangle\" class and \"radius\" for\n",
    "the \"Circle\" class."
   ]
  },
  {
   "cell_type": "code",
   "execution_count": 9,
   "id": "f9a85d39-7297-4ba8-88e5-1f7fe5f53915",
   "metadata": {},
   "outputs": [],
   "source": [
    "class Shape:\n",
    "    def __init__(self,color,border_width):\n",
    "        self.color=color\n",
    "        self.border_width=border_width\n",
    "class Rectangle(Shape):\n",
    "    def __init__(self,color,border_width,length,width):\n",
    "        super().__init__(color,border_width)\n",
    "        self.length=length\n",
    "        self.width=width\n",
    "class Circle(Shape):\n",
    "    def __init__(self,color,border_width,radius):\n",
    "        super().__init__(color,border_width)\n",
    "        self.radius=radius"
   ]
  },
  {
   "cell_type": "markdown",
   "id": "8349d329-8a09-4f27-99e8-1e5eb823c8b8",
   "metadata": {},
   "source": [
    "9. Create a base class called \"Device\" with attributes like \"brand\" and \"model.\" Derive\n",
    "two classes, \"Phone\" and \"Tablet,\" from \"Device.\" Add specific attributes like\n",
    "\"screen_size\" for the \"Phone\" class and \"battery_capacity\" for the \"Tablet\" class."
   ]
  },
  {
   "cell_type": "code",
   "execution_count": 10,
   "id": "f677ba6c-3c6b-4bc1-9515-4253f97e902b",
   "metadata": {},
   "outputs": [],
   "source": [
    "class Device:\n",
    "    def __init__(self,brand,model):\n",
    "        self.brand=brand\n",
    "        self.model=model\n",
    "class Phone(Device):\n",
    "    def __init__(self,brand,model,screen_size):\n",
    "        super().__init__(brand,model)\n",
    "        self.screen_size=screen_size\n",
    "class Tablet(Device):\n",
    "    def __init__(self,brand,model,battery_capacity):\n",
    "        super().__init__(brand,model)\n",
    "        self.battery_capacity=battery_capacity"
   ]
  },
  {
   "cell_type": "markdown",
   "id": "c08dbe0d-764d-4cfa-8740-95a5417f4d4e",
   "metadata": {},
   "source": [
    "10. Create a base class called \"BankAccount\" with attributes like \"account_number\" and\n",
    "\"balance.\" Derive two classes, \"SavingsAccount\" and \"CheckingAccount,\" from\n",
    "\"BankAccount.\" Add specific methods like \"calculate_interest\" for the\n",
    "\"SavingsAccount\" class and \"deduct_fees\" for the \"CheckingAccount\" class."
   ]
  },
  {
   "cell_type": "code",
   "execution_count": 11,
   "id": "8c4edeed-2928-49d2-8f7e-49b740e59153",
   "metadata": {},
   "outputs": [],
   "source": [
    "class BankAccount:\n",
    "    def __init__(self,account_number,balance):\n",
    "        self.account_number=account_number\n",
    "        self.balance=balance\n",
    "class SavingsAccount(BankAccount):\n",
    "    def __init__(self,account_number,balance,calculate_interest):\n",
    "        super().__init__(account_number,balance)\n",
    "        self.calculate_interest=calculate_interest\n",
    "class CheckingAccount(BankAccount):\n",
    "    def __init__(self,account_number,balance,deduct_fees):\n",
    "        super().__init__(account_number,balance)\n",
    "        self.deduct_fees=deduct_fees\n",
    "        "
   ]
  },
  {
   "cell_type": "code",
   "execution_count": null,
   "id": "71de4be0-5c6f-4b16-adfb-6da86648f533",
   "metadata": {},
   "outputs": [],
   "source": []
  }
 ],
 "metadata": {
  "kernelspec": {
   "display_name": "Python 3 (ipykernel)",
   "language": "python",
   "name": "python3"
  },
  "language_info": {
   "codemirror_mode": {
    "name": "ipython",
    "version": 3
   },
   "file_extension": ".py",
   "mimetype": "text/x-python",
   "name": "python",
   "nbconvert_exporter": "python",
   "pygments_lexer": "ipython3",
   "version": "3.10.6"
  }
 },
 "nbformat": 4,
 "nbformat_minor": 5
}
