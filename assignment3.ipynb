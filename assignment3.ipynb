{
 "cells": [
  {
   "cell_type": "markdown",
   "id": "96ff8f97-a782-435b-8677-ec65246b39fd",
   "metadata": {},
   "source": [
    "1.Why are functions advantageous to have in your programs?"
   ]
  },
  {
   "cell_type": "markdown",
   "id": "11d80ee7-4260-467f-b52d-341d5d168305",
   "metadata": {},
   "source": [
    "Sol: 1.reducing duplication of code\n",
    "2.decomposing complex problems into simpler pieces\n",
    "3.improving clarity of code\n",
    "4.information hiding 5.reuse of code"
   ]
  },
  {
   "cell_type": "markdown",
   "id": "8d6beff5-0fef-4429-a2d5-0e44ea76949d",
   "metadata": {},
   "source": [
    "2.When does the code in a function run: when it's specified or when it's called?"
   ]
  },
  {
   "cell_type": "markdown",
   "id": "b6d2b22d-19ef-4a84-b299-ed605ad9c8fa",
   "metadata": {},
   "source": [
    " A function runs when it is called and not when it is specified"
   ]
  },
  {
   "cell_type": "markdown",
   "id": "f95eef31-b7c6-4f8b-9c10-1d2ee488b9c0",
   "metadata": {},
   "source": [
    "3.What statement creates a function?"
   ]
  },
  {
   "cell_type": "code",
   "execution_count": null,
   "id": "cb865582-2d84-4a22-83fd-79248110f680",
   "metadata": {},
   "outputs": [],
   "source": [
    "def function1(): '''def keyword with function name, parenthesis and colon statements creates a function '''"
   ]
  },
  {
   "cell_type": "markdown",
   "id": "84dc527d-b79f-455b-ad6a-2896ad3ff56f",
   "metadata": {},
   "source": [
    "4.What is the difference between a function and a function call?"
   ]
  },
  {
   "cell_type": "markdown",
   "id": "54a7901c-d554-4f83-8725-cdeeffe1373c",
   "metadata": {},
   "source": [
    " A function is code that enhances reusability of program as it is not needed to write again and again.\n",
    "    However,a function call means invoking or calling that function\n",
    "    .A function can only be used when it is called"
   ]
  },
  {
   "cell_type": "markdown",
   "id": "c6ab19b6-edaa-4685-be0e-75564f9ddc0a",
   "metadata": {},
   "source": [
    "5.How many global scopes are there in a Python program? How many local scopes?"
   ]
  },
  {
   "cell_type": "markdown",
   "id": "18218a72-c936-457f-b223-7539318b4e73",
   "metadata": {},
   "source": [
    "There is only one global Python scope per program execution and a  local scope is created whenever a function is called"
   ]
  },
  {
   "cell_type": "markdown",
   "id": "ad35c9e0-06f5-4671-866f-250341890795",
   "metadata": {},
   "source": [
    "6.What happens to variables in a local scope when the function call returns?"
   ]
  },
  {
   "cell_type": "markdown",
   "id": "cd839925-f84e-4b38-8bdd-086f139bbbc5",
   "metadata": {},
   "source": [
    "A variable created inside a function belongs to local scope of that function and can only be used inside a function\n",
    "and the names of variables are totally forgotten when function call returns"
   ]
  },
  {
   "cell_type": "markdown",
   "id": "e56d37f8-b478-4725-bd22-c8421b3d773b",
   "metadata": {},
   "source": [
    "7.What is the concept of a return value? Is it possible to have a return value in an expression?"
   ]
  },
  {
   "cell_type": "markdown",
   "id": "b4a037f4-69ac-4f00-af0e-bc7603de5fc5",
   "metadata": {},
   "source": [
    "A return statement is used to end the execution of function call and returns the result to the caller.\n",
    "The statements after return statement are not executed.\n",
    "Yes, return statement is used with the value of expression. e.g- def add(a,b): return a+b"
   ]
  },
  {
   "cell_type": "markdown",
   "id": "655b91d3-a71e-4612-b226-cfb657449e1b",
   "metadata": {},
   "source": [
    "8.If a function does not have a return statement, what is the return value of a call to that function?"
   ]
  },
  {
   "cell_type": "markdown",
   "id": "c3fb3c0e-d1d8-4e27-8f58-02f79f29633a",
   "metadata": {},
   "source": [
    "If the return is used without any expression,the special value None is returned."
   ]
  },
  {
   "cell_type": "markdown",
   "id": "a3b2ef94-e0f8-4350-bf75-2b866b16cb35",
   "metadata": {},
   "source": [
    "9.How do you make a function variable refer to the global variable?"
   ]
  },
  {
   "cell_type": "markdown",
   "id": "b43cedfe-e06d-48ea-9a44-d9503710f5d3",
   "metadata": {},
   "source": [
    "A global statement will force a variable in a function to refer to the global variable. if you want \n",
    "to refer to a global variable in a function, you can use global keyword to declare which variables are global"
   ]
  },
  {
   "cell_type": "markdown",
   "id": "6864ba33-4f47-44fb-8a92-44ef0268a8dd",
   "metadata": {},
   "source": [
    "10. What is the data type of None?"
   ]
  },
  {
   "cell_type": "markdown",
   "id": "ee507903-3a43-485b-a464-bbda12bba7fa",
   "metadata": {},
   "source": [
    "the data type of None is NoneType"
   ]
  },
  {
   "cell_type": "markdown",
   "id": "74b08a52-4198-4b49-b8fd-ea7c26e9e444",
   "metadata": {},
   "source": [
    "11. What does the sentence import areallyourpetsnamederic do?"
   ]
  },
  {
   "cell_type": "markdown",
   "id": "4fc09efb-78dc-4078-8105-727ccf0983b9",
   "metadata": {},
   "source": [
    "this statement imports a module named areallyourpetsnamederic"
   ]
  },
  {
   "cell_type": "markdown",
   "id": "4e2e6c94-07c0-4165-b153-dfc9ade82458",
   "metadata": {},
   "source": [
    "12.If you had a bacon() feature in a spam module, what would you call it after importing spam?"
   ]
  },
  {
   "cell_type": "markdown",
   "id": "1fa56d8a-90aa-4887-af55-dee3e4e24384",
   "metadata": {},
   "source": [
    "this function can be called with spam.bacon()"
   ]
  },
  {
   "cell_type": "markdown",
   "id": "2d979dbe-84f5-4caa-aa2d-a38c498d5fc2",
   "metadata": {},
   "source": [
    "13. What can you do to save a programme from crashing if it encounters an error?"
   ]
  },
  {
   "cell_type": "markdown",
   "id": "a7ea039f-e4f3-4094-9926-7322f8cea83b",
   "metadata": {},
   "source": [
    "Place the line of code that might cause an error in a try clause and use except block to handle the error"
   ]
  },
  {
   "cell_type": "markdown",
   "id": "4d31b6fd-2310-4400-ac44-5f976980eb1e",
   "metadata": {},
   "source": [
    "14. What is the purpose of the try clause? What is the purpose of the except clause?"
   ]
  },
  {
   "cell_type": "code",
   "execution_count": null,
   "id": "6fcd7de2-a3f3-41da-864d-08ac01560e6e",
   "metadata": {},
   "outputs": [],
   "source": [
    "The code that could pote"
   ]
  }
 ],
 "metadata": {
  "kernelspec": {
   "display_name": "Python 3 (ipykernel)",
   "language": "python",
   "name": "python3"
  },
  "language_info": {
   "codemirror_mode": {
    "name": "ipython",
    "version": 3
   },
   "file_extension": ".py",
   "mimetype": "text/x-python",
   "name": "python",
   "nbconvert_exporter": "python",
   "pygments_lexer": "ipython3",
   "version": "3.10.6"
  }
 },
 "nbformat": 4,
 "nbformat_minor": 5
}
