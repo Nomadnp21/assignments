{
 "cells": [
  {
   "cell_type": "markdown",
   "id": "9d07231f-2ecd-4b3c-8c72-eaef732e871f",
   "metadata": {},
   "source": [
    "1. What is the primary goal of Object-Oriented Programming (OOP)?"
   ]
  },
  {
   "cell_type": "markdown",
   "id": "78d3c2aa-85fb-49ef-b8c5-ce88d5673355",
   "metadata": {},
   "source": [
    "\n",
    "The goal of object-oriented programming (OOP) is to model real-world concepts as objects,\n",
    "which have properties (attributes) and behaviors (methods). OOP allows for the creation of complex programs that \n",
    "are easy to understand, maintain, and extend. It also promotes code reuse by allowing objects to be created from\n",
    "existing class templates.\n"
   ]
  },
  {
   "cell_type": "markdown",
   "id": "3c5439a2-e51b-48f3-beef-025d134a2240",
   "metadata": {},
   "source": [
    "2. What is an object in Python?"
   ]
  },
  {
   "cell_type": "markdown",
   "id": "91ee090a-4c00-4a80-bd4d-9890457efb5f",
   "metadata": {},
   "source": [
    "An object is the basic building block of OOPs.\n",
    "An object can be considered a real-life entity having a state and behaviour. \n",
    "An object is an instance of a class, and you can create many objects of the same class. \n"
   ]
  },
  {
   "cell_type": "markdown",
   "id": "6b1bba50-3317-4034-b002-431df3c98ea7",
   "metadata": {},
   "source": [
    "3. What is a class in Python?"
   ]
  },
  {
   "cell_type": "markdown",
   "id": "60215e53-da03-4e58-8bed-139955d1aabe",
   "metadata": {},
   "source": [
    "A class is a collection of objects.\n",
    "A class contains the blueprints or the prototype from which the objects are being created.\n",
    "It is a logical entity that contains some attributes and methods.\n"
   ]
  },
  {
   "cell_type": "markdown",
   "id": "90346585-4d6e-4d8b-9536-faf13311af4a",
   "metadata": {},
   "source": [
    "4. What are attributes and methods in a class?"
   ]
  },
  {
   "cell_type": "markdown",
   "id": "71381a6a-7038-4455-a099-717c1b53d1db",
   "metadata": {},
   "source": [
    "An attribute is a value(characteristic).  An attribute as a variable that is stored within an object. A method is a set of instructions. Methods are functions, which are associated with an object."
   ]
  },
  {
   "cell_type": "markdown",
   "id": "101488f0-6e6d-4354-be60-3938ab98278b",
   "metadata": {},
   "source": [
    "5. What is the difference between class variables and instance variables in Python?"
   ]
  },
  {
   "cell_type": "markdown",
   "id": "16c4e8cf-d4bb-4106-962a-84f17f7fe4eb",
   "metadata": {},
   "source": [
    "Class variables are defined within the class but outside of any class methods.\n",
    "Instance variables are defined within class methods, typically the constructor.\n",
    "Changes made to the class variable affect all instances. \n",
    "Changes made to the instance variable does not affect all instances"
   ]
  },
  {
   "cell_type": "markdown",
   "id": "1cec051c-ca55-440d-b0d5-6090a470a6e7",
   "metadata": {},
   "source": [
    "6. What is the purpose of the self parameter in Python class methods?"
   ]
  },
  {
   "cell_type": "markdown",
   "id": "175a88c1-055c-4f76-a2bf-3fded62da5a2",
   "metadata": {},
   "source": [
    "SELF represents the instance of class. This handy keyword allows you to access variables, attributes, and methods of a defined class in Python. The self parameter doesn't have to be named “self”,it can be named anything"
   ]
  },
  {
   "cell_type": "markdown",
   "id": "1ad49fe9-c0f4-4be6-bfde-76314e1801f1",
   "metadata": {},
   "source": [
    "7. For a library management system, you have to design the \"Book\" class with OOP\n",
    "principles in mind. The “Book” class will have following attributes:\n",
    "a. title: Represents the title of the book.\n",
    "b. author: Represents the author(s) of the book.\n",
    "c. isbn: Represents the ISBN (International Standard Book Number) of the book.\n",
    "d. publication_year: Represents the year of publication of the book.\n",
    "e. available_copies: Represents the number of copies available for checkout.\n",
    "The class will also include the following methods:\n",
    "a. check_out(self): Decrements the available copies by one if there are copies\n",
    "available for checkout.\n",
    "b. return_book(self): Increments the available copies by one when a book is\n",
    "returned.\n",
    "c. display_book_info(self): Displays the information about the book, including its\n",
    "attributes and the number of available copies."
   ]
  },
  {
   "cell_type": "code",
   "execution_count": 32,
   "id": "20a442d9-4fdd-4e79-b1c5-6de970ad872b",
   "metadata": {},
   "outputs": [],
   "source": [
    "class Book:\n",
    "    def __init__(self,title,author,isbn,publication_year,available_copies):\n",
    "        self.title=title\n",
    "        self.author=author\n",
    "        self.isbn=isbn\n",
    "        self.publication_year=publication_year\n",
    "        self.available_copies=available_copies\n",
    "        \n",
    "    def check_out(self,available_copies):\n",
    "        available_copies-=1\n",
    "        print(\"available copies are\",available_copies)\n",
    "    \n",
    "    def return_book(self,available_copies):\n",
    "        available_copies+=1\n",
    "        print(\"available copies are \",available_copies)\n",
    "        \n",
    "    def display_book_info(self):\n",
    "        print(f\" the information of books are {self.title} author is {self. author} publication is in {self.publication_year}\")\n",
    "        "
   ]
  },
  {
   "cell_type": "code",
   "execution_count": 33,
   "id": "706efbfc-d418-48ab-a048-d8d00cf46de1",
   "metadata": {},
   "outputs": [],
   "source": [
    "s=Book(\"man vs wild\",\"bear grills\",6789,\"2022\",78)"
   ]
  },
  {
   "cell_type": "code",
   "execution_count": 34,
   "id": "6638b33f-73a8-44d0-a39a-cac201415cf8",
   "metadata": {},
   "outputs": [
    {
     "name": "stdout",
     "output_type": "stream",
     "text": [
      " the information of books are man vs wild author is bear grills publication is in 2022\n"
     ]
    }
   ],
   "source": [
    "\n",
    "s.display_book_info()"
   ]
  },
  {
   "cell_type": "code",
   "execution_count": 35,
   "id": "7989e68f-10a9-4975-af77-5d12858972ac",
   "metadata": {},
   "outputs": [
    {
     "name": "stdout",
     "output_type": "stream",
     "text": [
      "available copies are 77\n"
     ]
    }
   ],
   "source": [
    "s.check_out(78)"
   ]
  },
  {
   "cell_type": "code",
   "execution_count": 36,
   "id": "ff44af6f-3625-4d72-af9c-4fae1434ddce",
   "metadata": {},
   "outputs": [
    {
     "name": "stdout",
     "output_type": "stream",
     "text": [
      "available copies are  68\n"
     ]
    }
   ],
   "source": [
    "s.return_book(67)"
   ]
  },
  {
   "cell_type": "markdown",
   "id": "d00bcdf4-1174-4336-a252-337476a78e73",
   "metadata": {},
   "source": [
    "8. For a ticket booking system, you have to design the \"Ticket\" class with OOP\n",
    "principles in mind. The “Ticket” class should have the following attributes:\n",
    "a. ticket_id: Represents the unique identifier for the ticket.\n",
    "b. event_name: Represents the name of the event.\n",
    "c. event_date: Represents the date of the event.\n",
    "d. venue: Represents the venue of the event.\n",
    "e. seat_number: Represents the seat number associated with the ticket.\n",
    "f. price: Represents the price of the ticket.\n",
    "g. is_reserved: Represents the reservation status of the ticket.\n",
    "The class also includes the following methods:\n",
    "a. reserve_ticket(self): Marks the ticket as reserved if it is not already reserved.\n",
    "b. cancel_reservation(self): Cancels the reservation of the ticket if it is already\n",
    "reserved.\n",
    "c. display_ticket_info(self): Displays the information about the ticket, including its\n",
    "attributes and reservation status."
   ]
  },
  {
   "cell_type": "code",
   "execution_count": 1,
   "id": "b3f3d312-0b21-4b5e-b7b8-0b6818dd5e6a",
   "metadata": {},
   "outputs": [],
   "source": [
    "class Ticket:\n",
    "    def __init__(self,ticket_id,event_name,event_date,venue,seat_number,price):\n",
    "        self.ticket_id=ticket_id\n",
    "        self.event_name=event_name\n",
    "        self.event_date=event_date\n",
    "        self.venue=venue\n",
    "        self.seat_number=seat_number\n",
    "        self.price=price\n",
    "        \n",
    "    def reserve_ticket(self,is_reserved):\n",
    "        if is_reserved == 0:\n",
    "            is_reserved=1\n",
    "            print(\"ticket is reserved now\")\n",
    "        else:\n",
    "            print(\"ticket is already reserved\")\n",
    "    \n",
    "    def cancel_reservation(self,is_reserved):\n",
    "        if is_reserved==1:\n",
    "            is_reserved=0\n",
    "            print(\"ticket is cancelled now\")\n",
    "        else:\n",
    "            print(\"ticket is already cancelled\")\n",
    "            \n",
    "    def display_ticket_info(self,is_reserved):\n",
    "        print(f\"ticket information is {self.ticket_id} {self.event_name}{self.event_date} seat numbers are {self.seat_number}\")\n",
    "        "
   ]
  },
  {
   "cell_type": "code",
   "execution_count": 2,
   "id": "c2599bc4-7df2-42a7-bf8b-013aa52dedac",
   "metadata": {},
   "outputs": [],
   "source": [
    "p=Ticket(345,\"birthday\",\"21dec\",\"kanpur\",67,900)"
   ]
  },
  {
   "cell_type": "code",
   "execution_count": 3,
   "id": "ec41ffb3-c714-4973-89bb-84eaab4d5046",
   "metadata": {},
   "outputs": [
    {
     "name": "stdout",
     "output_type": "stream",
     "text": [
      "ticket is reserved now\n"
     ]
    }
   ],
   "source": [
    "p.reserve_ticket(0)"
   ]
  },
  {
   "cell_type": "code",
   "execution_count": 4,
   "id": "97d91ceb-c231-4e67-a44d-3ff23c35ceb2",
   "metadata": {},
   "outputs": [
    {
     "name": "stdout",
     "output_type": "stream",
     "text": [
      "ticket information is 345 birthday21dec seat numbers are 67\n"
     ]
    }
   ],
   "source": [
    "p.display_ticket_info(0)"
   ]
  },
  {
   "cell_type": "markdown",
   "id": "2457e0be-4aa0-411e-b934-ce32d915c4f6",
   "metadata": {},
   "source": [
    "9. You are creating a shopping cart for an e-commerce website. Using OOP to model\n",
    "the \"ShoppingCart\" functionality the class should contain following attributes and\n",
    "methods:\n",
    "a. items: Represents the list of items in the shopping cart.\n",
    "The class also includes the following methods:\n",
    "\n",
    "a. add_item(self, item): Adds an item to the shopping cart by appending it to the\n",
    "list of items.\n",
    "b. remove_item(self, item): Removes an item from the shopping cart if it exists in\n",
    "the list.\n",
    "c. view_cart(self): Displays the items currently present in the shopping cart.\n",
    "d. clear_cart(self): Clears all items from the shopping cart by reassigning an\n",
    "empty list to the items attribute."
   ]
  },
  {
   "cell_type": "code",
   "execution_count": 6,
   "id": "53b0d197-3122-46a9-b2b4-22b213dc04bc",
   "metadata": {},
   "outputs": [],
   "source": [
    "class ShoppingCart:\n",
    "    def __init__(self):\n",
    "        self.items=[]\n",
    "    \n",
    "        \n",
    "    def add_items(self):\n",
    "        \n",
    "        a= input(\"enter item\")\n",
    "        self.items.append(a)\n",
    "        \n",
    "    def remove_item(self):\n",
    "        b=input(\"enter item to remove\")\n",
    "        if b  in self.items:\n",
    "            self.items.remove(b)\n",
    "        else:\n",
    "            print(\"sorry no items as such\")\n",
    "    \n",
    "    def view_cart(self):\n",
    "        if self.items:\n",
    "            print(\"items in shopping cart:\")\n",
    "            for i in self.items:\n",
    "                print(i)\n",
    "        else:\n",
    "            print(\"no items in cart\")\n",
    "    \n",
    "    def clear_cart(self):\n",
    "        items.clear()\n",
    "        print(\"no items\")\n",
    "        print(items)\n",
    "        "
   ]
  },
  {
   "cell_type": "code",
   "execution_count": 7,
   "id": "9431d83d-88fa-405f-9a22-de5e53d4d691",
   "metadata": {},
   "outputs": [],
   "source": [
    "dmart=ShoppingCart()"
   ]
  },
  {
   "cell_type": "code",
   "execution_count": 8,
   "id": "e98a0abb-66e8-455e-9721-056ee1b42aab",
   "metadata": {},
   "outputs": [
    {
     "name": "stdin",
     "output_type": "stream",
     "text": [
      "enter item rice\n"
     ]
    }
   ],
   "source": [
    "dmart.add_items()"
   ]
  },
  {
   "cell_type": "code",
   "execution_count": 9,
   "id": "d6e5b6e7-2fce-4e41-ae87-92945f8cbaba",
   "metadata": {},
   "outputs": [
    {
     "name": "stdout",
     "output_type": "stream",
     "text": [
      "items in shopping cart:\n",
      "rice\n"
     ]
    }
   ],
   "source": [
    "dmart.view_cart()"
   ]
  },
  {
   "cell_type": "markdown",
   "id": "503d5bcd-f4f6-41c6-be8e-481712d7d5fb",
   "metadata": {},
   "source": [
    "10. Imagine a school management system. You have to design the \"Student\" class using\n",
    "OOP concepts.The “Student” class has the following attributes:\n",
    "a. name: Represents the name of the student.\n",
    "b. age: Represents the age of the student.\n",
    "c. grade: Represents the grade or class of the student.\n",
    "d. student_id: Represents the unique identifier for the student.\n",
    "e. attendance: Represents the attendance record of the student.\n",
    "The class should also include the following methods:\n",
    "a. update_attendance(self, date, status): Updates the attendance record of the\n",
    "student for a given date with the provided status (e.g., present or absent).\n",
    "b. get_attendance(self): Returns the attendance record of the student.\n",
    "c. get_average_attendance(self): Calculates and returns the average\n",
    "attendance percentage of the student based on their attendance record."
   ]
  },
  {
   "cell_type": "code",
   "execution_count": 10,
   "id": "1ae8af8a-0bbc-47f5-a618-aca12cead887",
   "metadata": {},
   "outputs": [],
   "source": [
    "class Student:\n",
    "    def __init__(self, name, age, grade, student_id):\n",
    "        self.name = name\n",
    "        self.age = age\n",
    "        self.grade = grade\n",
    "        self.student_id = student_id\n",
    "        self.attendance = {}\n",
    "\n",
    "    def update_attendance(self, date, status):\n",
    "        self.attendance[date] = status\n",
    "\n",
    "    def get_attendance(self):\n",
    "        return self.attendance\n",
    "\n",
    "    def get_average_attendance(self):\n",
    "        total_days = len(self.attendance)\n",
    "        present_days = sum(status == 'present' for status in self.attendance.values())\n",
    "        if total_days > 0:\n",
    "            average_attendance = (present_days / total_days) * 100\n",
    "            return average_attendance\n",
    "        else:\n",
    "            return 0\n",
    "\n",
    "    "
   ]
  },
  {
   "cell_type": "code",
   "execution_count": null,
   "id": "a2584b7b-8de1-48ba-88a1-abe7771f0e7c",
   "metadata": {},
   "outputs": [],
   "source": []
  }
 ],
 "metadata": {
  "kernelspec": {
   "display_name": "Python 3 (ipykernel)",
   "language": "python",
   "name": "python3"
  },
  "language_info": {
   "codemirror_mode": {
    "name": "ipython",
    "version": 3
   },
   "file_extension": ".py",
   "mimetype": "text/x-python",
   "name": "python",
   "nbconvert_exporter": "python",
   "pygments_lexer": "ipython3",
   "version": "3.10.6"
  }
 },
 "nbformat": 4,
 "nbformat_minor": 5
}
