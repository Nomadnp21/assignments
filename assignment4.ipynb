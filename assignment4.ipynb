{
 "cells": [
  {
   "cell_type": "markdown",
   "id": "8faff2e6-e2b7-48e2-8c82-0e00e2a9cf87",
   "metadata": {},
   "source": [
    "1. What exactly is []?"
   ]
  },
  {
   "cell_type": "markdown",
   "id": "33605f41-b780-4622-9cd4-2851cbbf39c4",
   "metadata": {},
   "source": [
    "[] is empty list.List is a data type, collection of similar or different objects like array"
   ]
  },
  {
   "cell_type": "markdown",
   "id": "88631ca1-efb9-4914-8d79-78fe45564fb7",
   "metadata": {},
   "source": [
    "2. In a list of values stored in a variable called spam, how would you assign the value \"hello\" as the\n",
    "third value? (Assume [2, 4, 6, 8, 10] are in spam.)"
   ]
  },
  {
   "cell_type": "code",
   "execution_count": 1,
   "id": "93953ca7-3529-4189-9c39-b1d93bbb3e9b",
   "metadata": {},
   "outputs": [
    {
     "name": "stdout",
     "output_type": "stream",
     "text": [
      "[2, 4, 'hello', 8, 10]\n"
     ]
    }
   ],
   "source": [
    "spam=[2,4,6,8,10]\n",
    "spam[2]=\"hello\"\n",
    "print(spam)"
   ]
  },
  {
   "cell_type": "markdown",
   "id": "9fe0231b-afaa-4d48-9654-af33616168c0",
   "metadata": {},
   "source": [
    "Let's pretend the spam includes the list ['a', 'b', 'c', 'd'] for the next three queries.\n",
    "3. What is the value of spam[int(int('3' * 2) / 11)]?"
   ]
  },
  {
   "cell_type": "code",
   "execution_count": 2,
   "id": "97e1efb0-a4e1-47cc-9141-df9a737b8b04",
   "metadata": {},
   "outputs": [
    {
     "name": "stdout",
     "output_type": "stream",
     "text": [
      "d\n"
     ]
    }
   ],
   "source": [
    "spam=['a','b','c','d']\n",
    "print(spam[int(int('3'*2)/11)])\n"
   ]
  },
  {
   "cell_type": "markdown",
   "id": "d24fc911-20f6-433c-95fd-f639fca94188",
   "metadata": {},
   "source": [
    "4. What is the value of spam[-1]?"
   ]
  },
  {
   "cell_type": "code",
   "execution_count": 3,
   "id": "6673fc65-afcd-4c79-88dc-00fe42c47c13",
   "metadata": {},
   "outputs": [
    {
     "name": "stdout",
     "output_type": "stream",
     "text": [
      "d\n"
     ]
    }
   ],
   "source": [
    "spam=['a','b','c','d']\n",
    "print(spam[-1])"
   ]
  },
  {
   "cell_type": "markdown",
   "id": "a70486f1-4bb7-4240-a327-e92fa08776be",
   "metadata": {},
   "source": [
    "5. What is the value of spam[:2]?"
   ]
  },
  {
   "cell_type": "code",
   "execution_count": 4,
   "id": "4ffca373-9715-4b76-b97d-5ced18c71f4c",
   "metadata": {},
   "outputs": [
    {
     "name": "stdout",
     "output_type": "stream",
     "text": [
      "['a', 'b']\n"
     ]
    }
   ],
   "source": [
    "spam=['a','b','c','d']\n",
    "print(spam[:2])"
   ]
  },
  {
   "cell_type": "markdown",
   "id": "4ee124ee-48c3-4b4d-bffd-6484c788752b",
   "metadata": {},
   "source": [
    "Let's pretend bacon has the list [3.14, 'cat', 11, 'cat', True] for the next three questions.\n",
    "6. What is the value of bacon.index('cat')?"
   ]
  },
  {
   "cell_type": "code",
   "execution_count": 5,
   "id": "5d1f98e0-a17e-4127-be48-e2f350d2f484",
   "metadata": {},
   "outputs": [
    {
     "name": "stdout",
     "output_type": "stream",
     "text": [
      "1\n"
     ]
    }
   ],
   "source": [
    "bacon=[3.14,'cat',11,'cat',True]\n",
    "print(bacon.index('cat'))"
   ]
  },
  {
   "cell_type": "markdown",
   "id": "ab9159ab-4b14-4e52-b41b-e96e31117737",
   "metadata": {},
   "source": [
    "7. How does bacon.append(99) change the look of the list value in bacon?"
   ]
  },
  {
   "cell_type": "code",
   "execution_count": 6,
   "id": "ce31c203-38cf-4b5b-b16e-6beaeddd31f3",
   "metadata": {},
   "outputs": [
    {
     "name": "stdout",
     "output_type": "stream",
     "text": [
      "[3.14, 'cat', 11, 'cat', True, 99]\n"
     ]
    }
   ],
   "source": [
    "bacon.append(99)\n",
    "print(bacon)"
   ]
  },
  {
   "cell_type": "markdown",
   "id": "5734cf9f-3138-447e-adf7-6b0081aff1fa",
   "metadata": {},
   "source": [
    "8. How does bacon.remove('cat') change the look of the list in bacon?"
   ]
  },
  {
   "cell_type": "code",
   "execution_count": 7,
   "id": "02bb8633-f8fe-44c4-aec6-9be3036e7268",
   "metadata": {},
   "outputs": [
    {
     "name": "stdout",
     "output_type": "stream",
     "text": [
      "[3.14, 11, 'cat', True, 99]\n"
     ]
    }
   ],
   "source": [
    "bacon.remove('cat')\n",
    "print(bacon)"
   ]
  },
  {
   "cell_type": "markdown",
   "id": "e8459694-cc73-499a-9956-69fb4bd50fd9",
   "metadata": {},
   "source": [
    "9. What are the list concatenation and list replication operators?"
   ]
  },
  {
   "cell_type": "markdown",
   "id": "87853806-c618-4765-8717-50c3c4cf13ab",
   "metadata": {},
   "source": [
    "the operator for list concatenation is '+' while for list replication we use '*'"
   ]
  },
  {
   "cell_type": "markdown",
   "id": "1c45b80f-26ce-4f04-a6f0-7acd2f8e7ba2",
   "metadata": {},
   "source": [
    "10. What is difference between the list methods append() and insert()?"
   ]
  },
  {
   "cell_type": "code",
   "execution_count": null,
   "id": "1de74a10-2a8c-4d23-97d0-1b7d7528abcc",
   "metadata": {},
   "outputs": [],
   "source": [
    "append() is used to insert data only at the end of the list,while insert() can be used to insert at any particular index"
   ]
  },
  {
   "cell_type": "markdown",
   "id": "0ba844c7-8643-4a35-8b03-4fe83098d6a0",
   "metadata": {},
   "source": [
    "11. What are the two methods for removing items from a list?"
   ]
  },
  {
   "cell_type": "markdown",
   "id": "26cbfade-d4e7-40cf-82fc-e84779ddef3a",
   "metadata": {},
   "source": [
    "1.removing an item by value: remove()\n",
    "2.remove item by index or slice: del\n",
    "3. remove items by index and get its value: pop()"
   ]
  },
  {
   "cell_type": "markdown",
   "id": "d9597e69-79f8-4264-b351-a421a568a310",
   "metadata": {},
   "source": [
    "12. Describe how list values and string values are identical."
   ]
  },
  {
   "cell_type": "markdown",
   "id": "7ea763a2-c03e-4f3c-a9a5-c7d43d768d87",
   "metadata": {},
   "source": [
    "list and string are similar as both are sequences in python"
   ]
  },
  {
   "cell_type": "markdown",
   "id": "80c32fbe-4ddc-4926-8651-f877e413a70b",
   "metadata": {},
   "source": [
    "13. What's the difference between tuples and lists?"
   ]
  },
  {
   "cell_type": "markdown",
   "id": "90d18f1d-db35-4c19-a550-d052d940c704",
   "metadata": {},
   "source": [
    "tuples are immutable means the values once stored in a tuple can never be changed while lists are mutable"
   ]
  },
  {
   "cell_type": "markdown",
   "id": "c4a36ca0-9347-4a2b-abcd-4e497549f35e",
   "metadata": {},
   "source": [
    "14. How do you type a tuple value that only contains the integer 42?"
   ]
  },
  {
   "cell_type": "code",
   "execution_count": 3,
   "id": "1c8a43d3-7c3f-44db-8475-4d7a89aa2b41",
   "metadata": {},
   "outputs": [
    {
     "name": "stdout",
     "output_type": "stream",
     "text": [
      "(42,) <class 'tuple'>\n"
     ]
    }
   ],
   "source": [
    "s=(42,) #s is a tuple that contains only 42\n",
    "print(s,type(s))"
   ]
  },
  {
   "cell_type": "markdown",
   "id": "1d75ec62-6cbd-40b5-aab1-262332ad3f58",
   "metadata": {},
   "source": [
    "15. How do you get a list value's tuple form? How do you get a tuple value's list form?"
   ]
  },
  {
   "cell_type": "markdown",
   "id": "bc81a6b5-a6b7-4806-880b-dcb0f299797d",
   "metadata": {},
   "source": [
    "tuple() function is used to get list value's tuple form\n",
    "while list() function is used to get tuple value's list form"
   ]
  },
  {
   "cell_type": "code",
   "execution_count": 4,
   "id": "3e6df1ee-b41b-40a1-b946-6d1442a00f02",
   "metadata": {},
   "outputs": [
    {
     "name": "stdout",
     "output_type": "stream",
     "text": [
      "[1, 2, 3] <class 'list'>\n",
      "(1, 2, 3) <class 'tuple'>\n"
     ]
    }
   ],
   "source": [
    "l=[1,2,3] #l is list\n",
    "print(l,type(l))\n",
    "t=tuple(l) # t is converting l's values into tuple\n",
    "print(t,type(t))"
   ]
  },
  {
   "cell_type": "code",
   "execution_count": 5,
   "id": "4902488a-0bc9-4264-99c9-a87175600711",
   "metadata": {},
   "outputs": [
    {
     "name": "stdout",
     "output_type": "stream",
     "text": [
      "(1, 2, 3) <class 'tuple'>\n",
      "[1, 2, 3] <class 'list'>\n"
     ]
    }
   ],
   "source": [
    "m=(1,2,3)\n",
    "print(m,type(m))\n",
    "n=list(m)\n",
    "print(n,type(n))"
   ]
  },
  {
   "cell_type": "markdown",
   "id": "f323c34e-26d4-4b9f-a697-43859bf0c352",
   "metadata": {},
   "source": [
    "16. Variables that \"contain\" list values are not necessarily lists themselves. Instead, what do they\n",
    "contain?"
   ]
  },
  {
   "cell_type": "markdown",
   "id": "854f6020-edca-4d2a-a3ea-525aa48daa0c",
   "metadata": {},
   "source": [
    "they contain reference to list values"
   ]
  },
  {
   "cell_type": "markdown",
   "id": "a0ddab95-e2d9-4b71-ab71-2570512357ec",
   "metadata": {},
   "source": [
    "17. How do you distinguish between copy.copy() and copy.deepcopy()?"
   ]
  },
  {
   "cell_type": "markdown",
   "id": "c06f601a-c08f-4099-9281-ca1a3d0edc4d",
   "metadata": {},
   "source": [
    "the copy.copy() will do a shallow copy of list while copy.deepcopy() will do a deep copy i.e will duplicate any lists inside\n",
    "list"
   ]
  }
 ],
 "metadata": {
  "kernelspec": {
   "display_name": "Python 3 (ipykernel)",
   "language": "python",
   "name": "python3"
  },
  "language_info": {
   "codemirror_mode": {
    "name": "ipython",
    "version": 3
   },
   "file_extension": ".py",
   "mimetype": "text/x-python",
   "name": "python",
   "nbconvert_exporter": "python",
   "pygments_lexer": "ipython3",
   "version": "3.10.6"
  }
 },
 "nbformat": 4,
 "nbformat_minor": 5
}
