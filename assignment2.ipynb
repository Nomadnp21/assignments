{
 "cells": [
  {
   "cell_type": "markdown",
   "id": "29536322-e1cf-4b06-a125-f2a73fa773d2",
   "metadata": {},
   "source": [
    "1.What are the two values of the Boolean data type? How do you write them?\n",
    "Sol:\n",
    "boolean type is one of the inbuilt data type used in python,which represents one of two values,True or False."
   ]
  },
  {
   "cell_type": "markdown",
   "id": "3c4ebec8-dd3a-4d93-ac8e-d43053fc81d7",
   "metadata": {},
   "source": [
    "2. What are the three different types of Boolean operators?\n",
    "Sol:\n",
    "three different types of Boolean operators are AND, OR, NOT."
   ]
  },
  {
   "cell_type": "markdown",
   "id": "7b083f7e-9891-44eb-b80d-8b416031b7e7",
   "metadata": {},
   "source": [
    "3. Make a list of each Boolean operator's truth tables (i.e. every possible combination of Boolean\n",
    "values for the operator and what it evaluate ).\n",
    "Sol:\n",
    "AND\n",
    "a   b    a*b(a AND b)\n",
    "0   0     0\n",
    "0   1     0\n",
    "1   0     0\n",
    "1   1     1\n",
    "OR\n",
    "a    b    a+b(a OR b)\n",
    "0    0     0\n",
    "0    1     1\n",
    "1    0     1\n",
    "1    1     1\n",
    "NOT\n",
    "a    NOT a\n",
    "0     1\n",
    "1     0"
   ]
  },
  {
   "cell_type": "markdown",
   "id": "dba57607-2afc-4a71-b5aa-186a7c5ff1ff",
   "metadata": {},
   "source": [
    "4. What are the values of the following expressions?\n",
    "a.(5 > 4) and (3 == 5)\n",
    "b. not (5 > 4)\n",
    "c. (5 > 4) or (3 == 5)\n",
    "d. not((5 > 4) or (3 == 5))\n",
    "e.(True and True) and (True == False)\n",
    "f.(not False) or (not True)"
   ]
  },
  {
   "cell_type": "code",
   "execution_count": 2,
   "id": "3314d45c-de78-46bd-a796-9cb832c32756",
   "metadata": {},
   "outputs": [
    {
     "name": "stdout",
     "output_type": "stream",
     "text": [
      "False\n",
      "False\n",
      "True\n",
      "False\n",
      "False\n",
      "True\n"
     ]
    }
   ],
   "source": [
    "print((5>4) and (3==5))\n",
    "print((not(5>4)))\n",
    "print((5>4)or(3==5))\n",
    "print(not(5>4)or(3==5))\n",
    "print((True and True)and (True==False))\n",
    "print((not False)or(not True))"
   ]
  },
  {
   "cell_type": "markdown",
   "id": "c3689615-9422-4c3c-a466-dac5f97fba7f",
   "metadata": {},
   "source": [
    "5. What are the six comparison operators?\n",
    "six comparison operators are:-\n",
    "> greater than\n",
    "< less than\n",
    "== equal to\n",
    "!= not equal to\n",
    ">= greater than or equal to\n",
    "<= less than or equal to"
   ]
  },
  {
   "cell_type": "markdown",
   "id": "fdb53830-7e22-4a23-bbda-04e447535a43",
   "metadata": {},
   "source": [
    "6. How do you tell the difference between the equal to and assignment operators?Describe a\n",
    "condition and when you would use one.\n",
    "Sol:\n",
    "= is assignment operator and is used to assign values to a variable\n",
    "== is relational or comparison operator and used to compare both values. It is usec to return 1 or True when both value are equal otherwise 0 or False\n"
   ]
  },
  {
   "cell_type": "code",
   "execution_count": 3,
   "id": "2dae6b63-775e-478e-a3f3-845a09b2b5ac",
   "metadata": {},
   "outputs": [
    {
     "name": "stdout",
     "output_type": "stream",
     "text": [
      "10 10\n",
      "True\n"
     ]
    }
   ],
   "source": [
    "a=10 #assignment operator when a needs to assign a value\n",
    "b=10 # assignment operator\n",
    "print(a,b)\n",
    "print(a==b)# relational or comparison operator"
   ]
  },
  {
   "cell_type": "markdown",
   "id": "93aaee48-e916-4579-8a5b-0b6bb328818d",
   "metadata": {},
   "source": [
    "7. Identify the three blocks in this code:\n",
    "spam = 0\n",
    "if spam == 10:\n",
    "print(\"eggs\")\n",
    "if spam > 5:\n",
    "print(\"bacon\")\n",
    "else:\n",
    "print(\"ham\")\n",
    "print(\"spam\")\n",
    "print(\"spam\")"
   ]
  },
  {
   "cell_type": "code",
   "execution_count": 1,
   "id": "94192734-c192-4962-9341-ff3cc8a77f5b",
   "metadata": {},
   "outputs": [
    {
     "name": "stdout",
     "output_type": "stream",
     "text": [
      "ham\n",
      "spam\n",
      "spam\n"
     ]
    }
   ],
   "source": [
    "spam = 0\n",
    "if (spam == 10):#first block\n",
    "    print(\"eggs\")\n",
    "if (spam > 5): #2nd block\n",
    "    print(\"bacon\")\n",
    "else: #3rd block\n",
    "    print(\"ham\")\n",
    "    print(\"spam\")\n",
    "    print(\"spam\")"
   ]
  },
  {
   "cell_type": "markdown",
   "id": "b9cc4ccd-721f-48bc-9bb9-070e5d1fef35",
   "metadata": {},
   "source": [
    "8. Write code that prints Hello if 1 is stored in spam, prints Howdy if 2 is stored in spam, and prints\n",
    "Greetings! if anything else is stored in spam."
   ]
  },
  {
   "cell_type": "code",
   "execution_count": 2,
   "id": "4f47fde7-5c01-4a19-a457-dfd5285441bf",
   "metadata": {},
   "outputs": [
    {
     "name": "stdout",
     "output_type": "stream",
     "text": [
      "Greetings!\n"
     ]
    }
   ],
   "source": [
    "spam = 0\n",
    "if (spam==1):\n",
    "    print(\"Hello\")\n",
    "elif (spam==2):\n",
    "    print(\"Howdy\")\n",
    "else:\n",
    "    print(\"Greetings!\")"
   ]
  },
  {
   "cell_type": "markdown",
   "id": "989ee0c7-4dfc-447c-b652-8134f8ed06d5",
   "metadata": {},
   "source": [
    "9.If your programme is stuck in an endless loop, what keys you’ll press?\n",
    "Sol:\n",
    "Ctrl+C can be pressed to stop an infinite loop.\n",
    "The break statement however immediately terminates a loop entirely."
   ]
  },
  {
   "cell_type": "markdown",
   "id": "4cb9d18f-023d-4b5b-8ac9-786f6539c1f3",
   "metadata": {},
   "source": [
    "10. How can you tell the difference between break and continue?\n",
    "Sol:\n",
    "Break statement alters the flow of loop by terminating it once a specified condition is met\n",
    "Continue statement is used to skip the remaining code inside a loop for the current iteration only "
   ]
  },
  {
   "cell_type": "markdown",
   "id": "689453e6-9510-4059-a6aa-43b6f62077b6",
   "metadata": {},
   "source": [
    "11. In a for loop, what is the difference between range(10), range(0, 10), and range(0, 10, 1)?\n",
    "Sol:\n",
    "range(start,stop,step) is function that returns sequence of numbers,starting from 0 by default and increments by 1 by\n",
    "default and stops before a specified number.\n",
    "range(10) and range(0,10) \n",
    "both will give same output as both will start from 0 and will go before 10.The result will be\n",
    "0 1 2 3 4 5 6 7 8 9\n",
    "range(0,10,1) will skip 2 steps in the sequence.The result will be\n",
    "0 2 4 6 8"
   ]
  },
  {
   "cell_type": "markdown",
   "id": "702f2f82-11cf-4000-a79a-d4894d0d5f60",
   "metadata": {},
   "source": [
    "12. Write a short program that prints the numbers 1 to 10 using a for loop. Then write an equivalent\n",
    "program that prints the numbers 1 to 10 using a while loop."
   ]
  },
  {
   "cell_type": "code",
   "execution_count": 8,
   "id": "9c08ce46-c615-4590-8c55-e90a7d205082",
   "metadata": {},
   "outputs": [
    {
     "name": "stdout",
     "output_type": "stream",
     "text": [
      "1\n",
      "2\n",
      "3\n",
      "4\n",
      "5\n",
      "6\n",
      "7\n",
      "8\n",
      "9\n",
      "10\n"
     ]
    }
   ],
   "source": [
    "for i in range (1,11):\n",
    "    print(i)\n",
    "\n",
    "    "
   ]
  },
  {
   "cell_type": "code",
   "execution_count": 14,
   "id": "a5e7c6cf-3b47-4344-bc7b-75b26004001e",
   "metadata": {},
   "outputs": [
    {
     "name": "stdout",
     "output_type": "stream",
     "text": [
      "1\n",
      "2\n",
      "3\n",
      "4\n",
      "5\n",
      "6\n",
      "7\n",
      "8\n",
      "9\n",
      "10\n"
     ]
    }
   ],
   "source": [
    "i=1\n",
    "while i in range(1,11):\n",
    "    print(i)\n",
    "    i=i+1"
   ]
  },
  {
   "cell_type": "markdown",
   "id": "e24db2b0-f0fd-4e9b-a289-26e31d9fecab",
   "metadata": {},
   "source": [
    "13. If you had a function named bacon() inside a module named spam, how would you call it after\n",
    "importing spam?\n",
    "Sol:\n",
    "import spam\n",
    "spam.bacon() #function call ,bacon() function is inside module spam"
   ]
  },
  {
   "cell_type": "code",
   "execution_count": null,
   "id": "fd938047-4884-4da4-a850-1a618bdc383e",
   "metadata": {},
   "outputs": [],
   "source": []
  }
 ],
 "metadata": {
  "kernelspec": {
   "display_name": "Python 3 (ipykernel)",
   "language": "python",
   "name": "python3"
  },
  "language_info": {
   "codemirror_mode": {
    "name": "ipython",
    "version": 3
   },
   "file_extension": ".py",
   "mimetype": "text/x-python",
   "name": "python",
   "nbconvert_exporter": "python",
   "pygments_lexer": "ipython3",
   "version": "3.10.6"
  }
 },
 "nbformat": 4,
 "nbformat_minor": 5
}
