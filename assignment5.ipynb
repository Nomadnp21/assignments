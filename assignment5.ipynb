{
 "cells": [
  {
   "cell_type": "markdown",
   "id": "665c0c75-e270-479c-8ee2-19baa7f0c5a4",
   "metadata": {},
   "source": [
    "1. What does an empty dictionary's code look like?"
   ]
  },
  {
   "cell_type": "code",
   "execution_count": 1,
   "id": "2ef92eb1-22b0-4f1b-8221-c86958535e8d",
   "metadata": {},
   "outputs": [
    {
     "name": "stdout",
     "output_type": "stream",
     "text": [
      "{} <class 'dict'>\n"
     ]
    }
   ],
   "source": [
    "s={}\n",
    "print(s,type(s))"
   ]
  },
  {
   "cell_type": "markdown",
   "id": "2912971a-88c6-44bd-ac43-f2f9e07e89c6",
   "metadata": {},
   "source": [
    "2. What is the value of a dictionary value with the key 'foo' and the value 42?"
   ]
  },
  {
   "cell_type": "code",
   "execution_count": 5,
   "id": "1e012ca8-9b0e-441b-850f-32a79e058d81",
   "metadata": {},
   "outputs": [
    {
     "data": {
      "text/plain": [
       "42"
      ]
     },
     "execution_count": 5,
     "metadata": {},
     "output_type": "execute_result"
    }
   ],
   "source": [
    "dic={'foo':42}\n",
    "dic['foo']"
   ]
  },
  {
   "cell_type": "markdown",
   "id": "cd7accc4-e1cc-40d7-9a5f-d0f6e6864b77",
   "metadata": {},
   "source": [
    "3. What is the most significant distinction between a dictionary and a list?"
   ]
  },
  {
   "cell_type": "markdown",
   "id": "eae9139e-e0c5-44b9-99e6-ba0f244e9947",
   "metadata": {},
   "source": [
    "dictionary is unordered collection of key:value pair while list is ordered collection of similar or different objects"
   ]
  },
  {
   "cell_type": "markdown",
   "id": "3f389678-92c9-477e-8aa3-bbd244feb6bc",
   "metadata": {},
   "source": [
    "4. What happens if you try to access spam['foo'] if spam is {'bar': 100}?"
   ]
  },
  {
   "cell_type": "code",
   "execution_count": 6,
   "id": "263a12ce-de3f-408a-88dd-715d5f150a0f",
   "metadata": {},
   "outputs": [
    {
     "ename": "KeyError",
     "evalue": "'foo'",
     "output_type": "error",
     "traceback": [
      "\u001b[0;31m---------------------------------------------------------------------------\u001b[0m",
      "\u001b[0;31mKeyError\u001b[0m                                  Traceback (most recent call last)",
      "Cell \u001b[0;32mIn [6], line 2\u001b[0m\n\u001b[1;32m      1\u001b[0m spam\u001b[38;5;241m=\u001b[39m{\u001b[38;5;124m'\u001b[39m\u001b[38;5;124mbar\u001b[39m\u001b[38;5;124m'\u001b[39m:\u001b[38;5;241m100\u001b[39m}\n\u001b[0;32m----> 2\u001b[0m \u001b[43mspam\u001b[49m\u001b[43m[\u001b[49m\u001b[38;5;124;43m'\u001b[39;49m\u001b[38;5;124;43mfoo\u001b[39;49m\u001b[38;5;124;43m'\u001b[39;49m\u001b[43m]\u001b[49m\n",
      "\u001b[0;31mKeyError\u001b[0m: 'foo'"
     ]
    }
   ],
   "source": [
    "spam={'bar':100}\n",
    "spam['foo']"
   ]
  },
  {
   "cell_type": "markdown",
   "id": "774ffbcb-60a1-40cc-a81e-c6828b790e7d",
   "metadata": {},
   "source": [
    "5. If a dictionary is stored in spam, what is the difference between the expressions 'cat' in spam and\n",
    "'cat' in spam.keys()?"
   ]
  },
  {
   "cell_type": "code",
   "execution_count": 7,
   "id": "0125b4cc-02e1-4579-9aa5-03375bf5ce5b",
   "metadata": {},
   "outputs": [
    {
     "data": {
      "text/plain": [
       "True"
      ]
     },
     "execution_count": 7,
     "metadata": {},
     "output_type": "execute_result"
    }
   ],
   "source": [
    "spam={'cat':23}\n",
    "'cat' in spam"
   ]
  },
  {
   "cell_type": "code",
   "execution_count": 8,
   "id": "600009d0-07e3-43d9-a371-bbbb086b0d1d",
   "metadata": {},
   "outputs": [
    {
     "data": {
      "text/plain": [
       "True"
      ]
     },
     "execution_count": 8,
     "metadata": {},
     "output_type": "execute_result"
    }
   ],
   "source": [
    "'cat' in spam.keys()"
   ]
  },
  {
   "cell_type": "markdown",
   "id": "85684e85-017c-4266-897a-14efbbe84d85",
   "metadata": {},
   "source": [
    "6. If a dictionary is stored in spam, what is the difference between the expressions 'cat' in spam and\n",
    "'cat' in spam.values()?"
   ]
  },
  {
   "cell_type": "code",
   "execution_count": 9,
   "id": "c9c4736a-e485-4607-969d-990a52dc16c0",
   "metadata": {},
   "outputs": [
    {
     "data": {
      "text/plain": [
       "False"
      ]
     },
     "execution_count": 9,
     "metadata": {},
     "output_type": "execute_result"
    }
   ],
   "source": [
    "'cat' in spam.values() #spam.values will check whether there is 'cat' in values of any key"
   ]
  },
  {
   "cell_type": "markdown",
   "id": "0e9f996d-02f0-4c8a-be66-5e65943929d6",
   "metadata": {},
   "source": [
    "7. What is a shortcut for the following code?\n",
    "if 'color' not in spam:\n",
    "spam['color'] = 'black';"
   ]
  },
  {
   "cell_type": "code",
   "execution_count": null,
   "id": "fcef0eb8-780f-4c6d-9015-596131d48f79",
   "metadata": {},
   "outputs": [],
   "source": [
    "spam={'color':'black'}"
   ]
  },
  {
   "cell_type": "markdown",
   "id": "723cd026-32c4-4ecd-8ee0-a5c8b3224d12",
   "metadata": {},
   "source": [
    "8. How do you \"pretty print\" dictionary values using which module and function?"
   ]
  },
  {
   "cell_type": "code",
   "execution_count": 1,
   "id": "50927c31-d071-4289-a4dd-20869950787e",
   "metadata": {},
   "outputs": [
    {
     "name": "stdout",
     "output_type": "stream",
     "text": [
      "{'age': 28, 'class': [{'science', 'math', 'english'}], 'name': 'nishtha'}\n"
     ]
    }
   ],
   "source": [
    "import pprint\n",
    "test_dic={'name':'nishtha','age':28,'class':[{'english','math','science'}]}\n",
    "pretty=pprint.pprint(test_dic)"
   ]
  },
  {
   "cell_type": "code",
   "execution_count": null,
   "id": "9f48b46f-9fb5-466f-8981-eb512262755b",
   "metadata": {},
   "outputs": [],
   "source": []
  }
 ],
 "metadata": {
  "kernelspec": {
   "display_name": "Python 3 (ipykernel)",
   "language": "python",
   "name": "python3"
  },
  "language_info": {
   "codemirror_mode": {
    "name": "ipython",
    "version": 3
   },
   "file_extension": ".py",
   "mimetype": "text/x-python",
   "name": "python",
   "nbconvert_exporter": "python",
   "pygments_lexer": "ipython3",
   "version": "3.10.6"
  }
 },
 "nbformat": 4,
 "nbformat_minor": 5
}
