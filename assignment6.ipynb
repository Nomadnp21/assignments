{
 "cells": [
  {
   "cell_type": "markdown",
   "id": "5b5584cb-b059-4007-aa72-de4f4514ed24",
   "metadata": {},
   "source": [
    "Q.1. What are keywords in python? Using the keyword library, print all the python keywords."
   ]
  },
  {
   "cell_type": "markdown",
   "id": "d8433606-abea-4696-88f4-79400c3847bc",
   "metadata": {},
   "source": [
    "keywords are reserved words in python. we cannot use keyword as variable name,function name,or any other identifier"
   ]
  },
  {
   "cell_type": "code",
   "execution_count": 1,
   "id": "f8d1abe8-f960-47ed-9494-70040d355625",
   "metadata": {},
   "outputs": [
    {
     "name": "stdout",
     "output_type": "stream",
     "text": [
      "['False', 'None', 'True', 'and', 'as', 'assert', 'async', 'await', 'break', 'class', 'continue', 'def', 'del', 'elif', 'else', 'except', 'finally', 'for', 'from', 'global', 'if', 'import', 'in', 'is', 'lambda', 'nonlocal', 'not', 'or', 'pass', 'raise', 'return', 'try', 'while', 'with', 'yield']\n"
     ]
    }
   ],
   "source": [
    "import keyword\n",
    "print(keyword.kwlist)"
   ]
  },
  {
   "cell_type": "markdown",
   "id": "02403859-35c0-4522-8739-dbc1b45e5ad4",
   "metadata": {},
   "source": [
    "Q.2. What are the rules to create variables in python?"
   ]
  },
  {
   "cell_type": "markdown",
   "id": "9e1afc4c-60e8-462e-bc67-e2e18bfb4cf8",
   "metadata": {},
   "source": [
    "Rules for Python variables:\n",
    "\n",
    "1.A variable name must start with a letter or the underscore character\n",
    "2.A variable name cannot start with a number\n",
    "3.A variable name can only contain alpha-numeric characters and underscores (A-z, 0-9, and _ )\n",
    "4.Variable names are case-sensitive (age, Age and AGE are three different variables)"
   ]
  },
  {
   "cell_type": "markdown",
   "id": "959529bb-e768-407e-9932-1c428bb32477",
   "metadata": {},
   "source": [
    "Q.3. What are the standards and conventions followed for the nomenclature of variables in\n",
    "python to improve code readability and maintainability?"
   ]
  },
  {
   "cell_type": "markdown",
   "id": "87134235-412a-419b-a7df-33f1bc7c4ef2",
   "metadata": {},
   "source": [
    "PEP describing style guidelines for the  code in the implementation of Python.\n",
    "The guidelines provided here are intended to improve the readability of code and \n",
    "make it consistent across the wide spectrum of Python code. "
   ]
  },
  {
   "cell_type": "markdown",
   "id": "776a0fb8-8a7a-40b9-8686-4c796fa1e666",
   "metadata": {},
   "source": [
    "Q.4. What will happen if a keyword is used as a variable name?"
   ]
  },
  {
   "cell_type": "code",
   "execution_count": 2,
   "id": "cb952938-06e6-4da2-b7e5-f38c97581590",
   "metadata": {},
   "outputs": [
    {
     "ename": "SyntaxError",
     "evalue": "invalid syntax (3722526478.py, line 1)",
     "output_type": "error",
     "traceback": [
      "\u001b[0;36m  Cell \u001b[0;32mIn [2], line 1\u001b[0;36m\u001b[0m\n\u001b[0;31m    else=9\u001b[0m\n\u001b[0m    ^\u001b[0m\n\u001b[0;31mSyntaxError\u001b[0m\u001b[0;31m:\u001b[0m invalid syntax\n"
     ]
    }
   ],
   "source": [
    "else=9\n",
    "print(else)"
   ]
  },
  {
   "cell_type": "markdown",
   "id": "8fd874d7-d98a-4612-81a0-05a256529654",
   "metadata": {},
   "source": [
    "keyword cannot be used as variable name,it will give syntax error"
   ]
  },
  {
   "cell_type": "markdown",
   "id": "adf1c83d-d6d5-4f6a-becf-13b48c04e3f3",
   "metadata": {},
   "source": [
    "Q.5. For what purpose def keyword is used?"
   ]
  },
  {
   "cell_type": "markdown",
   "id": "c57553ef-20b4-4acb-8f3f-2b02314c8f9f",
   "metadata": {},
   "source": [
    "def keyword is used to create a function"
   ]
  },
  {
   "cell_type": "markdown",
   "id": "d66aa153-99ab-4ad9-b294-c08d8b395d0f",
   "metadata": {},
   "source": [
    "Q.6. What is the operation of this special character ‘\\’?"
   ]
  },
  {
   "cell_type": "markdown",
   "id": "906c066e-8e3b-420d-aff2-2b14f852171b",
   "metadata": {},
   "source": [
    "Regular expressions use the backslash character ('\\') to indicate special forms or to allow special characters to be used without invoking their special meaning."
   ]
  },
  {
   "cell_type": "markdown",
   "id": "45661cd6-e464-4b23-a700-845d8621c05c",
   "metadata": {},
   "source": [
    "Q.7. Give an example of the following conditions:\n",
    "(i) Homogeneous list\n",
    "(ii) Heterogeneous set\n",
    "(iii) Homogeneous tuple"
   ]
  },
  {
   "cell_type": "code",
   "execution_count": 3,
   "id": "ec08017a-c5f8-4d72-bd20-9cafcc133c93",
   "metadata": {},
   "outputs": [
    {
     "name": "stdout",
     "output_type": "stream",
     "text": [
      "[1, 2, 3, 6, 8, 5] <class 'list'>\n",
      "{3, 'hi', 9.7, 'akshu', 78, 'rajul', 55, 'nishtha'} <class 'set'>\n",
      "(5.4, 3.2, 6.5, 2.1) <class 'tuple'>\n"
     ]
    }
   ],
   "source": [
    "#(i) homogeneous list\n",
    "l=[1,2,3,6,8,5]\n",
    "print(l,type(l))\n",
    "#(ii) heterogeneous set\n",
    "s={'akshu','rajul','nishtha',78,9.7,3,55,\"hi\"}\n",
    "print(s,type(s))\n",
    "#(iii)homogeneous tuple\n",
    "t=(5.4,3.2,6.5,2.1)\n",
    "print(t,type(t))"
   ]
  },
  {
   "cell_type": "markdown",
   "id": "28ae42ef-fd09-4dce-bfda-241387fd1e0f",
   "metadata": {},
   "source": [
    "Q.8. Explain the mutable and immutable data types with proper explanation & examples."
   ]
  },
  {
   "cell_type": "code",
   "execution_count": 4,
   "id": "d3aa0fe7-0b76-4c5c-94c6-ec5a13a72259",
   "metadata": {},
   "outputs": [
    {
     "name": "stdout",
     "output_type": "stream",
     "text": [
      "[2, 'hello', 9, 'kiran', 'nirman']\n"
     ]
    }
   ],
   "source": [
    "l=[2,5,9,'kiran','nirman'] #mutable data type-list\n",
    "l[1]='hello'\n",
    "print(l)\n"
   ]
  },
  {
   "cell_type": "code",
   "execution_count": 5,
   "id": "78730534-6b37-46bd-bf9b-d57108fbe9ae",
   "metadata": {},
   "outputs": [
    {
     "ename": "TypeError",
     "evalue": "'tuple' object does not support item assignment",
     "output_type": "error",
     "traceback": [
      "\u001b[0;31m---------------------------------------------------------------------------\u001b[0m",
      "\u001b[0;31mTypeError\u001b[0m                                 Traceback (most recent call last)",
      "Cell \u001b[0;32mIn [5], line 3\u001b[0m\n\u001b[1;32m      1\u001b[0m \u001b[38;5;66;03m#immutable data type-tuple  \u001b[39;00m\n\u001b[1;32m      2\u001b[0m t\u001b[38;5;241m=\u001b[39m(\u001b[38;5;241m4\u001b[39m,\u001b[38;5;241m6\u001b[39m,\u001b[38;5;241m20\u001b[39m,\u001b[38;5;124m'\u001b[39m\u001b[38;5;124mhe\u001b[39m\u001b[38;5;124m'\u001b[39m,\u001b[38;5;124m'\u001b[39m\u001b[38;5;124mnaman\u001b[39m\u001b[38;5;124m'\u001b[39m)\n\u001b[0;32m----> 3\u001b[0m \u001b[43mt\u001b[49m\u001b[43m[\u001b[49m\u001b[38;5;241;43m2\u001b[39;49m\u001b[43m]\u001b[49m\u001b[38;5;241m=\u001b[39m\u001b[38;5;241m66\u001b[39m\n\u001b[1;32m      4\u001b[0m \u001b[38;5;28mprint\u001b[39m(t)\n",
      "\u001b[0;31mTypeError\u001b[0m: 'tuple' object does not support item assignment"
     ]
    }
   ],
   "source": [
    "#immutable data type-tuple  \n",
    "t=(4,6,20,'he','naman')\n",
    "t[2]=66 #cannot be changed\n",
    "print(t)"
   ]
  },
  {
   "cell_type": "code",
   "execution_count": null,
   "id": "e13f1d17-65ae-4978-8d40-7e858a174f06",
   "metadata": {},
   "outputs": [],
   "source": [
    "Q.9. Write a code to create the given structure using only for loop.\n",
    "*\n",
    "***\n",
    "*****\n",
    "*******\n",
    "*********"
   ]
  },
  {
   "cell_type": "code",
   "execution_count": 1,
   "id": "e7f3b142-9a3a-424b-abc5-cbabffb4449c",
   "metadata": {},
   "outputs": [
    {
     "name": "stdout",
     "output_type": "stream",
     "text": [
      "*\n",
      "***\n",
      "*****\n",
      "*******\n",
      "*********\n"
     ]
    }
   ],
   "source": [
    "a='*'\n",
    "b=' '\n",
    "\n",
    "\n",
    "for i in range(5):\n",
    "    print(2*i*a+a)"
   ]
  },
  {
   "cell_type": "markdown",
   "id": "11ac575a-14af-4e6f-a7c7-567a0dd1ccbc",
   "metadata": {},
   "source": [
    "Q.10. Write a code to create the given structure using while loop.\n",
    "|||||||||\n",
    "|||||||\n",
    "|||||\n",
    "|||\n",
    "|"
   ]
  },
  {
   "cell_type": "code",
   "execution_count": 10,
   "id": "9828198b-6a41-4ff0-be13-b49bcfaeef52",
   "metadata": {},
   "outputs": [
    {
     "name": "stdout",
     "output_type": "stream",
     "text": [
      "|||||||||\n",
      "|||||||\n",
      "|||||\n",
      "|||\n",
      "|\n"
     ]
    }
   ],
   "source": [
    "a='|'\n",
    "b=' '\n",
    "i=9\n",
    "while (i>=0):\n",
    "    print(a*i)\n",
    "    i=i-2"
   ]
  },
  {
   "cell_type": "code",
   "execution_count": null,
   "id": "24455745-228a-4e6d-9485-d5a132cc121b",
   "metadata": {},
   "outputs": [],
   "source": []
  },
  {
   "cell_type": "code",
   "execution_count": null,
   "id": "1aef5651-b5db-4dab-9334-96cb5fc32949",
   "metadata": {},
   "outputs": [],
   "source": []
  }
 ],
 "metadata": {
  "kernelspec": {
   "display_name": "Python 3 (ipykernel)",
   "language": "python",
   "name": "python3"
  },
  "language_info": {
   "codemirror_mode": {
    "name": "ipython",
    "version": 3
   },
   "file_extension": ".py",
   "mimetype": "text/x-python",
   "name": "python",
   "nbconvert_exporter": "python",
   "pygments_lexer": "ipython3",
   "version": "3.10.6"
  }
 },
 "nbformat": 4,
 "nbformat_minor": 5
}
