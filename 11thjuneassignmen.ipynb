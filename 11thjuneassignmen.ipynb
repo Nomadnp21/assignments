{
 "cells": [
  {
   "cell_type": "markdown",
   "id": "cb0feb31-bee6-4aca-9c6a-a006a10d9c27",
   "metadata": {},
   "source": [
    "1. What is a lambda function in Python, and how does it differ from a regular function?"
   ]
  },
  {
   "cell_type": "markdown",
   "id": "0c31b387-4caa-4cd4-895d-bd1cd29e18ea",
   "metadata": {},
   "source": [
    "regular function is defined by def keyword and can consists of any number of execution statements inside \n",
    "function definition ,however, lambda function is defined by lambda keyword and only limited operations\n",
    "can be performed by lambda functions.\n",
    "In regular function,to return an object return should be explicitly defined, however , lambda function \n",
    "does return an object by default."
   ]
  },
  {
   "cell_type": "markdown",
   "id": "2263f251-637d-42a1-8ce7-912be31c225f",
   "metadata": {},
   "source": [
    "2. Can a lambda function in Python have multiple arguments? If yes, how can you define and use\n",
    "them?"
   ]
  },
  {
   "cell_type": "code",
   "execution_count": 2,
   "id": "e15e8716-fef4-4fc8-93bc-abf2d493cca0",
   "metadata": {},
   "outputs": [
    {
     "name": "stdout",
     "output_type": "stream",
     "text": [
      "12\n"
     ]
    }
   ],
   "source": [
    "#lambda function can take any number of arguments but can have only one expression\n",
    "\n",
    "x= lambda a,b,c : a+b+c\n",
    "print(x(3,4,5))"
   ]
  },
  {
   "cell_type": "markdown",
   "id": "a6b9246d-448d-431e-94b4-9c6345feadf4",
   "metadata": {},
   "source": [
    "3. How are lambda functions typically used in Python? Provide an example use case."
   ]
  },
  {
   "cell_type": "code",
   "execution_count": 3,
   "id": "df1a47e9-0dc9-4114-81b6-150ea8311b63",
   "metadata": {},
   "outputs": [
    {
     "name": "stdout",
     "output_type": "stream",
     "text": [
      "22\n",
      "33\n"
     ]
    }
   ],
   "source": [
    "def myfunc(n):\n",
    "  return lambda a : a * n\n",
    "\n",
    "doubler = myfunc(2)\n",
    "tripler = myfunc(3)\n",
    "\n",
    "print(doubler(11))\n",
    "print(tripler(11))"
   ]
  },
  {
   "cell_type": "markdown",
   "id": "bc654f89-7a5e-4656-913c-e04d3bfb54a2",
   "metadata": {},
   "source": [
    "4. What are the advantages and limitations of lambda functions compared to regular functions in\n",
    "Python?"
   ]
  },
  {
   "cell_type": "markdown",
   "id": "0a5fbefe-bf07-417f-a63c-c12d11594107",
   "metadata": {},
   "source": [
    "Advantages:\n",
    "1.lambda function are easy and faster,as they require only single line of code.\n",
    "2.Also there is no need of return statement as lambda function returns an object by default.\n",
    "Disadvantages:\n",
    "1.Lambda functions themselves lack names and documentation,\n",
    "meaning that the only way to know what they do is to read the code.\n",
    "2.Lambda functions can often be replaced with existing functions in\n",
    "the standard library or Python built-in functions.\n"
   ]
  },
  {
   "cell_type": "markdown",
   "id": "6d37b91a-a7b1-4f11-8b36-b7a5998c99cb",
   "metadata": {},
   "source": [
    "5. Are lambda functions in Python able to access variables defined outside of their own scope?\n",
    "Explain with an example."
   ]
  },
  {
   "cell_type": "code",
   "execution_count": 2,
   "id": "ed95e9ae-af9a-4991-b231-b81abb80b809",
   "metadata": {},
   "outputs": [
    {
     "name": "stdout",
     "output_type": "stream",
     "text": [
      "24\n"
     ]
    }
   ],
   "source": [
    "y= lambda a,b,c: a*b*c\n",
    "c=2\n",
    "print(y(3,4,c))\n",
    "\n",
    "    "
   ]
  },
  {
   "cell_type": "markdown",
   "id": "c22c8aa9-1d12-4f40-9b55-193a7141cbdd",
   "metadata": {},
   "source": [
    "6. Write a lambda function to calculate the square of a given number."
   ]
  },
  {
   "cell_type": "code",
   "execution_count": 3,
   "id": "52ba4113-b756-4f01-b8fd-e1d5890318c3",
   "metadata": {},
   "outputs": [
    {
     "name": "stdout",
     "output_type": "stream",
     "text": [
      "9\n",
      "49\n"
     ]
    }
   ],
   "source": [
    "square = lambda x: x ** 2\n",
    "print(square(3))\n",
    "print(square(7))"
   ]
  },
  {
   "cell_type": "markdown",
   "id": "f8dbfc80-0808-43dd-a0f9-500c6710a031",
   "metadata": {},
   "source": [
    "7. Create a lambda function to find the maximum value in a list of integers."
   ]
  },
  {
   "cell_type": "code",
   "execution_count": 4,
   "id": "484b78a5-cbf9-499a-a3af-5bc6c83f9114",
   "metadata": {},
   "outputs": [
    {
     "name": "stdout",
     "output_type": "stream",
     "text": [
      "97\n",
      "29\n"
     ]
    }
   ],
   "source": [
    "from functools import reduce\n",
    "list = [19, 7, 17, 97, 5]\n",
    "maximum = reduce(lambda x, y: x if x >= y else y, list)\n",
    "print(maximum)\n",
    "\n",
    "\n",
    "\n",
    "\n",
    "list = [\"19\", \"7\", \"17\", \"29\", \"5\"]\n",
    "maximum = max(list, key=lambda x:int(x))\n",
    "print(maximum)\n"
   ]
  },
  {
   "cell_type": "markdown",
   "id": "b5f46386-cf26-45f6-a68e-9f1f1f858e5e",
   "metadata": {},
   "source": [
    "8. Implement a lambda function to filter out all the even numbers from a list of integers."
   ]
  },
  {
   "cell_type": "code",
   "execution_count": 1,
   "id": "7e759993-a03b-4863-acc9-d0135cd9c195",
   "metadata": {},
   "outputs": [
    {
     "name": "stdout",
     "output_type": "stream",
     "text": [
      "orginal list is : [7, 4, 5, 6, 3, 2, 8, 0]\n",
      "[4, 6, 2, 8, 0]\n"
     ]
    }
   ],
   "source": [
    "num=[7,4,5,6,3,2,8,0]\n",
    "print(\"orginal list is :\",num)\n",
    "even = list(filter(lambda x: x%2==0, num))\n",
    "print(even)\n"
   ]
  },
  {
   "cell_type": "markdown",
   "id": "7e85627a-da9b-4098-ae71-8b69de4f6545",
   "metadata": {},
   "source": [
    "9. Write a lambda function to sort a list of strings in ascending order based on the length of each\n",
    "string."
   ]
  },
  {
   "cell_type": "code",
   "execution_count": 2,
   "id": "a0a6b0df-f379-4512-867c-835fbf535f6a",
   "metadata": {},
   "outputs": [
    {
     "name": "stdout",
     "output_type": "stream",
     "text": [
      "['amy', 'rohan', 'sapna', 'aakash', 'raunak', 'chinmoy', 'muhammad']\n"
     ]
    }
   ],
   "source": [
    "myList = [\"rohan\", \"amy\", \"sapna\", \"muhammad\", \"aakash\", \"raunak\", \"chinmoy\"]\n",
    "\n",
    "sortedList = sorted(myList, key=lambda x: len(x))\n",
    "\n",
    "print(sortedList)\n"
   ]
  },
  {
   "cell_type": "markdown",
   "id": "5eccfee3-e38c-4010-acd9-84cfc706e98d",
   "metadata": {},
   "source": [
    "10. Create a lambda function that takes two lists as input and returns a new list containing the\n",
    "common elements between the two lists."
   ]
  },
  {
   "cell_type": "code",
   "execution_count": 1,
   "id": "f890682f-5beb-4994-bdb3-305214b022df",
   "metadata": {},
   "outputs": [
    {
     "name": "stdout",
     "output_type": "stream",
     "text": [
      "The common elements in the two lists are: \n",
      "[5]\n"
     ]
    }
   ],
   "source": [
    "def common_member(a, b):\n",
    "\tresult = [i for i in a if i in b]\n",
    "\treturn result\n",
    "\n",
    "a = [1, 2, 3, 4, 5]\n",
    "b = [5, 6, 7, 8, 9]\n",
    "\n",
    "print(\"The common elements in the two lists are: \")\n",
    "print(common_member(a, b))\n"
   ]
  },
  {
   "cell_type": "markdown",
   "id": "1817cc30-3d0f-4fd1-a7c3-8a30dc953e88",
   "metadata": {},
   "source": [
    "11. Write a recursive function to calculate the factorial of a given positive integer."
   ]
  },
  {
   "cell_type": "code",
   "execution_count": 3,
   "id": "59d375e0-685a-4c82-8091-eff58ad23265",
   "metadata": {},
   "outputs": [
    {
     "name": "stdin",
     "output_type": "stream",
     "text": [
      "enter a number  5\n"
     ]
    },
    {
     "name": "stdout",
     "output_type": "stream",
     "text": [
      "number is:  5  and factorial is : 120\n"
     ]
    }
   ],
   "source": [
    "\n",
    "def factorial(n):\n",
    "\t\n",
    "\tif (n==1 or n==0):\n",
    "\t\t\n",
    "\t\treturn 1\n",
    "\t\n",
    "\telse:\n",
    "\t\t\n",
    "\t\treturn (n * factorial(n - 1))\n",
    "\n",
    "num = int(input(\"enter a number \"))\n",
    "\n",
    "print(\"number is: \",num ,\" and factorial is :\",factorial(num))\n"
   ]
  },
  {
   "cell_type": "markdown",
   "id": "4889f352-a12d-476a-8b89-60d84b74136e",
   "metadata": {},
   "source": [
    "12. Implement a recursive function to compute the nth Fibonacci number."
   ]
  },
  {
   "cell_type": "code",
   "execution_count": 5,
   "id": "ce185e76-940b-4480-a080-bbb6056fbbac",
   "metadata": {},
   "outputs": [
    {
     "name": "stdin",
     "output_type": "stream",
     "text": [
      "enter number to find fibonacci 10\n"
     ]
    },
    {
     "name": "stdout",
     "output_type": "stream",
     "text": [
      "fibonacci is : 34\n"
     ]
    }
   ],
   "source": [
    "\n",
    "def Fibonacci(n):\n",
    "\tif n<= 0:\n",
    "\t\tprint(\"Incorrect input\")\n",
    "\telif n == 1:\n",
    "\t\treturn 0\n",
    "\telif n == 2:\n",
    "\t\treturn 1\n",
    "\telse:\n",
    "\t\treturn Fibonacci(n-1)+Fibonacci(n-2)\n",
    "\n",
    "num=int(input(\"enter number to find fibonacci\"))\n",
    "\n",
    "\n",
    "print(\"fibonacci is :\",Fibonacci(num))\n"
   ]
  },
  {
   "cell_type": "markdown",
   "id": "95b21467-6942-4d3b-9831-dd0e89ac918a",
   "metadata": {},
   "source": [
    "13. Create a recursive function to find the sum of all the elements in a given list."
   ]
  },
  {
   "cell_type": "code",
   "execution_count": 1,
   "id": "e9c281ec-d9a6-4bc4-81a0-4a94c1c8e59b",
   "metadata": {},
   "outputs": [
    {
     "name": "stdout",
     "output_type": "stream",
     "text": [
      "21\n"
     ]
    }
   ],
   "source": [
    "def recursive_list_sum(data_list):\n",
    "\ttotal = 0\n",
    "\tfor element in data_list:\n",
    "\t\tif type(element) == type([]):\n",
    "\t\t\ttotal = total + recursive_list_sum(element)\n",
    "\t\telse:\n",
    "\t\t\ttotal = total + element\n",
    "\n",
    "\treturn total\n",
    "print( recursive_list_sum([1, 2, [3,4],[5,6]]))\n"
   ]
  },
  {
   "cell_type": "markdown",
   "id": "a05fd221-bc95-4137-8394-c1bf300a6a07",
   "metadata": {},
   "source": [
    "14. Write a recursive function to determine whether a given string is a palindrome."
   ]
  },
  {
   "cell_type": "code",
   "execution_count": 2,
   "id": "def69b5b-d5a4-4f04-96ba-ac66c51341be",
   "metadata": {},
   "outputs": [
    {
     "name": "stdin",
     "output_type": "stream",
     "text": [
      "Enter string: nitin\n"
     ]
    },
    {
     "name": "stdout",
     "output_type": "stream",
     "text": [
      "String is a palindrome!\n"
     ]
    }
   ],
   "source": [
    "def is_palindrome(s):\n",
    "    if len(s) < 1:\n",
    "        return True\n",
    "    else:\n",
    "        if s[0] == s[-1]:\n",
    "            return is_palindrome(s[1:-1])\n",
    "        else:\n",
    "            return False\n",
    "a=str(input(\"Enter string:\"))\n",
    "if(is_palindrome(a)==True):\n",
    "    print(\"String is a palindrome!\")\n",
    "else:\n",
    "    print(\"String isn't a palindrome!\")"
   ]
  },
  {
   "cell_type": "markdown",
   "id": "9267e5c1-33d6-4a77-b720-fa771f7d3cdf",
   "metadata": {},
   "source": [
    "15. Implement a recursive function to find the greatest common divisor (GCD) of two positive integers."
   ]
  },
  {
   "cell_type": "code",
   "execution_count": 3,
   "id": "1fb7c585-3059-4b8a-93c5-4f348bb9e011",
   "metadata": {},
   "outputs": [
    {
     "name": "stdin",
     "output_type": "stream",
     "text": [
      "Enter first number: 4\n",
      "Enter second number: 2\n"
     ]
    },
    {
     "name": "stdout",
     "output_type": "stream",
     "text": [
      "GCD is:  2\n"
     ]
    }
   ],
   "source": [
    "def gcd(a,b):\n",
    "    if(b==0):\n",
    "        return a\n",
    "    else:\n",
    "        return gcd(b,a%b)\n",
    "a=int(input(\"Enter first number:\"))\n",
    "b=int(input(\"Enter second number:\"))\n",
    "print(\"GCD is: \",gcd(a,b))\n"
   ]
  },
  {
   "cell_type": "code",
   "execution_count": null,
   "id": "ec76b341-d16e-45ee-a367-4ecafc53b36b",
   "metadata": {},
   "outputs": [],
   "source": []
  }
 ],
 "metadata": {
  "kernelspec": {
   "display_name": "Python 3 (ipykernel)",
   "language": "python",
   "name": "python3"
  },
  "language_info": {
   "codemirror_mode": {
    "name": "ipython",
    "version": 3
   },
   "file_extension": ".py",
   "mimetype": "text/x-python",
   "name": "python",
   "nbconvert_exporter": "python",
   "pygments_lexer": "ipython3",
   "version": "3.10.6"
  }
 },
 "nbformat": 4,
 "nbformat_minor": 5
}
